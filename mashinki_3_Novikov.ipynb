{
  "metadata": {
    "kernelspec": {
      "name": "python",
      "display_name": "Python (Pyodide)",
      "language": "python"
    },
    "language_info": {
      "name": "python"
    },
    "colab": {
      "provenance": [],
      "gpuType": "T4"
    },
    "accelerator": "GPU"
  },
  "nbformat_minor": 4,
  "nbformat": 4,
  "cells": [
    {
      "cell_type": "code",
      "source": "'''\nЗадание 1\n• Рассчитать результат свертки:\n1. Размер входного изображения: 1024 x 1024. Какого размера получится\nрезультат свёртки 5 x 5, со страйдом ( 1 , 1 ), с паддингом ( 1 , 1 ) если на\nвыходе должно быть 44 каналов.\n2. Размер входного изображения: 128 x 128. Какого размера получится\nрезультат свёртки 9 x 9, со страйдом ( 1 , 1 ), с паддингом ( 1 , 1 ) если на\nвыходе должно быть 9 каналов\n\nЗадание 2\n• Найти количество параметров в свёрточной нейронной сети:\n1) conv2d(channels_input = 4 , channels_output = 4 kernel = ( 7 x 7 ), padding = 3 , stride = ( 3 , 3 )\nmaxpool\nconv2d(channels_input = 4 , channels_output = 6 kernel = ( 5 x 5 ), padding = 2 , stride = ( 1 , 1 )\nmaxpool\n2) conv2d(channels_input = 4 , channels_output = 4 kernel = ( 9 x 9 ), padding = 4 , stride = ( 2 , 2 )\nmaxpool\nconv2d(channels_input = 4 , channels_output = 6 kernel = ( 9 x 9 ), padding = 4 , stride = ( 4 , 4 )\nmaxpool\nconv2d(channels_input = 6 , channels_output = 7 kernel = ( 9 x 9 ), padding = 4 , stride = ( 1 , 1 )\nmaxpool\nconv2d(channels_input = 7 , channels_output = 8 kernel = ( 5 x 5 ), padding = 2 , stride = ( 2 , 2 )\nmaxpool\n\n((w*h*d)*k)\nСмещение для каждой свертки свое. То есть если у нас 4 фильтра, то к всем\nвесам прибавляется еще 4 смещения.\n\nЗадание 3\nПостроить архитектуру сверточной нейронной сети LeNet для задачи\nклассификации (данные, например, CIFAR10, можно и другие). Обучить\nмодель.\n• Построить график ошибок для тестовой выборки для старого LeNet и с\nразными новыми гиперпараметрами сети. Т.е. добавить ReLu, затем\nMaxPool, затем 2 свертки 3*3 вместо 5*5. То есть всего 4 графика на\nодном полотне.\n• Показать результат работы сети после обучения.\n'''\n\n# Загружать в соответствующие библиотеки и при необходимости использовать псевдонимы\nimport torch\nimport torch.nn as nn\nimport torchvision\nimport torchvision.transforms as transforms\n\n# Определите соответствующие переменные для задачи ML\nbatch_size = 64\nnum_classes = 10\nlearning_rate = 0.001\nnum_epochs = 10\n\n# Устройство само определит, следует ли запускать обучение на графическом процессоре или CPU.\ndevice = torch.device('cuda' if torch.cuda.is_available() else 'cpu')\n\n#///////////////////////////////////////////////\n#Loading the dataset and preprocessing\ntrain_dataset = torchvision.datasets.MNIST(root = './data',\n                                           train = True,\n                                           transform = transforms.Compose([\n                                                  transforms.Resize((22,22)),\n                                                  transforms.ToTensor(),\n                                                  transforms.Normalize(mean = (0.1307,), std = (0.3081,))]),\n                                           download = True)\n\n\ntest_dataset = torchvision.datasets.MNIST(root = './data',\n                                          train = False,\n                                          transform = transforms.Compose([\n                                                  transforms.Resize((22,22)),\n                                                  transforms.ToTensor(),\n                                                  transforms.Normalize(mean = (0.1325,), std = (0.3105,))]),\n                                          download=True)\n\n\ntrain_loader = torch.utils.data.DataLoader(dataset = train_dataset,\n                                           batch_size = batch_size,\n                                           shuffle = True)\n\n\ntest_loader = torch.utils.data.DataLoader(dataset = test_dataset,\n                                           batch_size = batch_size,\n                                           shuffle = True)\n\n#/////////////////////////////////////////////////////////\n\n#Определение сверточной нейронной сети\nclass LeNet5(nn.Module):\n    def __init__(self, num_classes):\n        super().__init__()\n        self.layer1 = nn.Sequential(\n            nn.Conv2d(1, 6, kernel_size=5, stride=1, padding=2),\n            nn.Tanh(),\n            nn.AvgPool2d(kernel_size = 2, stride = 2))\n        self.layer2 = nn.Sequential(\n            nn.Conv2d(6, 16, kernel_size=5, stride=1, padding=0),\n            nn.Tanh(),\n            nn.AvgPool2d(kernel_size = 2, stride = 2))\n        self.tanh = nn.Tanh()\n        self.fc1 = nn.Linear(144, 84)\n        self.tanh1 = nn.Tanh()\n        self.fc2 = nn.Linear(84, num_classes)\n        self.softmax = nn.Softmax()\n\n    def forward(self, x):\n        #print(x.shape)\n        out = self.layer1(x)\n        #print(out.shape)\n        out = self.layer2(out)\n        #print(out.shape)\n        out = out.reshape(out.size(0), -1)\n        out = self.tanh(out)\n        out = self.fc1(out)\n        out = self.tanh1(out)\n        out = self.fc2(out)\n        out = self.softmax(out)\n        return out\n\n  #////////////////////////\n\nmodel = LeNet5(num_classes).to(device)\n\n#Setting the loss function\ncost = nn.CrossEntropyLoss()\n\n#Настройка оптимизатора с учетом параметров модели и скорости обучения\noptimizer = torch.optim.Adam(model.parameters(), lr=learning_rate)\n\n#это определено для того, чтобы вывести количество оставшихся шагов при обучении\ntotal_step = len(train_loader)\n\n#///////////////////////////\n\n\nfrom sklearn.metrics import f1_score\n\ntotal_step = len(train_loader)\n\naccuracys_train = []\naccuracys_test = []\n\nfor epoch in range(num_epochs):\n    for i, (images, labels) in enumerate(train_loader):\n        images = images.to(device)\n        labels = labels.to(device)\n\n        #Forward pass\n        outputs = model(images)\n        loss = cost(outputs, labels)\n\n        # Backward and optimize\n        optimizer.zero_grad()\n        loss.backward()\n        optimizer.step()\n\n        if (i+1) % 400 == 0:\n            print ('Epoch [{}/{}], Step [{}/{}], Loss: {:.4f}'\n        \t\t           .format(epoch+1, num_epochs, i+1, total_step, loss.item()))\n\n    with torch.no_grad():\n        correct = 0\n        total = 0\n        all_labels = []\n        all_outs = []\n        for images, labels in test_loader:\n            images = images.to(device)\n            labels = labels.to(device)\n            outputs = model(images)\n            _, predicted = torch.max(outputs.data, 1)\n            all_labels.extend(labels.cpu())\n            all_outs.extend(predicted.cpu())\n            total += labels.size(0)\n            correct += (predicted == labels).sum().item()\n\n        accuracys_test.append(100 * correct / total)\n        print('Accuracy of the network on the 10000 test images: {} %'.format(100 * correct / total))\n\n\n#///////////////////////////////////////////////\n\n#Определение сверточной нейронной сети\nclass LeNet_ReLU(nn.Module):\n    def __init__(self, num_classes):\n        super().__init__()\n        self.layer1 = nn.Sequential(\n            nn.Conv2d(1, 6, kernel_size=5, stride=1, padding=2),\n            nn.ReLU(),\n            nn.AvgPool2d(kernel_size = 2, stride = 2))\n        self.layer2 = nn.Sequential(\n            nn.Conv2d(6, 16, kernel_size=5, stride=1, padding=0),\n            nn.ReLU(),\n            nn.AvgPool2d(kernel_size = 2, stride = 2))\n        self.relu = nn.ReLU()\n        self.fc1 = nn.Linear(144, 84)\n        self.relu1 = nn.ReLU()\n        self.fc2 = nn.Linear(84, num_classes)\n        self.softmax = nn.Softmax()\n\n    def forward(self, x):\n        #print(x.shape)\n        out = self.layer1(x)\n        #print(out.shape)\n        out = self.layer2(out)\n        #print(out.shape)\n        out = out.reshape(out.size(0), -1)\n        out = self.relu(out)\n        out = self.fc1(out)\n        out = self.relu1(out)\n        out = self.fc2(out)\n        out = self.softmax(out)\n        return out\n\n    #////////////////////////////////////////////////////\n\nmodel = LeNet_ReLU(num_classes).to(device)\n\noptimizer = torch.optim.Adam(model.parameters(), lr=learning_rate)\n\n",
      "metadata": {
        "id": "mqV14P8hvknB",
        "colab": {
          "base_uri": "https://localhost:8080/"
        },
        "outputId": "658aaa23-a6df-42d8-aa42-45be3ae918f5"
      },
      "outputs": [
        {
          "output_type": "stream",
          "name": "stdout",
          "text": [
            "Downloading http://yann.lecun.com/exdb/mnist/train-images-idx3-ubyte.gz\n",
            "Downloading http://yann.lecun.com/exdb/mnist/train-images-idx3-ubyte.gz to ./data/MNIST/raw/train-images-idx3-ubyte.gz\n"
          ]
        },
        {
          "output_type": "stream",
          "name": "stderr",
          "text": [
            "100%|██████████| 9912422/9912422 [00:00<00:00, 78071614.80it/s]\n"
          ]
        },
        {
          "output_type": "stream",
          "name": "stdout",
          "text": [
            "Extracting ./data/MNIST/raw/train-images-idx3-ubyte.gz to ./data/MNIST/raw\n",
            "\n",
            "Downloading http://yann.lecun.com/exdb/mnist/train-labels-idx1-ubyte.gz\n",
            "Downloading http://yann.lecun.com/exdb/mnist/train-labels-idx1-ubyte.gz to ./data/MNIST/raw/train-labels-idx1-ubyte.gz\n"
          ]
        },
        {
          "output_type": "stream",
          "name": "stderr",
          "text": [
            "100%|██████████| 28881/28881 [00:00<00:00, 128321709.56it/s]\n"
          ]
        },
        {
          "output_type": "stream",
          "name": "stdout",
          "text": [
            "Extracting ./data/MNIST/raw/train-labels-idx1-ubyte.gz to ./data/MNIST/raw\n",
            "\n",
            "Downloading http://yann.lecun.com/exdb/mnist/t10k-images-idx3-ubyte.gz\n",
            "Downloading http://yann.lecun.com/exdb/mnist/t10k-images-idx3-ubyte.gz to ./data/MNIST/raw/t10k-images-idx3-ubyte.gz\n"
          ]
        },
        {
          "output_type": "stream",
          "name": "stderr",
          "text": [
            "100%|██████████| 1648877/1648877 [00:00<00:00, 51699095.45it/s]\n"
          ]
        },
        {
          "output_type": "stream",
          "name": "stdout",
          "text": [
            "Extracting ./data/MNIST/raw/t10k-images-idx3-ubyte.gz to ./data/MNIST/raw\n",
            "\n",
            "Downloading http://yann.lecun.com/exdb/mnist/t10k-labels-idx1-ubyte.gz\n",
            "Downloading http://yann.lecun.com/exdb/mnist/t10k-labels-idx1-ubyte.gz to ./data/MNIST/raw/t10k-labels-idx1-ubyte.gz\n"
          ]
        },
        {
          "output_type": "stream",
          "name": "stderr",
          "text": [
            "100%|██████████| 4542/4542 [00:00<00:00, 1234882.27it/s]"
          ]
        },
        {
          "output_type": "stream",
          "name": "stdout",
          "text": [
            "Extracting ./data/MNIST/raw/t10k-labels-idx1-ubyte.gz to ./data/MNIST/raw\n",
            "\n"
          ]
        },
        {
          "output_type": "stream",
          "name": "stderr",
          "text": [
            "\n",
            "/usr/local/lib/python3.10/dist-packages/torch/nn/modules/module.py:1511: UserWarning: Implicit dimension choice for softmax has been deprecated. Change the call to include dim=X as an argument.\n",
            "  return self._call_impl(*args, **kwargs)\n"
          ]
        },
        {
          "output_type": "stream",
          "name": "stdout",
          "text": [
            "Epoch [1/10], Step [400/938], Loss: 1.5470\n",
            "Epoch [1/10], Step [800/938], Loss: 1.5167\n",
            "Accuracy of the network on the 10000 test images: 94.82 %\n",
            "Epoch [2/10], Step [400/938], Loss: 1.4962\n",
            "Epoch [2/10], Step [800/938], Loss: 1.4838\n",
            "Accuracy of the network on the 10000 test images: 96.76 %\n",
            "Epoch [3/10], Step [400/938], Loss: 1.4786\n",
            "Epoch [3/10], Step [800/938], Loss: 1.4652\n",
            "Accuracy of the network on the 10000 test images: 97.39 %\n",
            "Epoch [4/10], Step [400/938], Loss: 1.5241\n",
            "Epoch [4/10], Step [800/938], Loss: 1.4763\n",
            "Accuracy of the network on the 10000 test images: 97.82 %\n",
            "Epoch [5/10], Step [400/938], Loss: 1.5169\n",
            "Epoch [5/10], Step [800/938], Loss: 1.4716\n",
            "Accuracy of the network on the 10000 test images: 98.01 %\n",
            "Epoch [6/10], Step [400/938], Loss: 1.4887\n",
            "Epoch [6/10], Step [800/938], Loss: 1.4828\n",
            "Accuracy of the network on the 10000 test images: 97.9 %\n",
            "Epoch [7/10], Step [400/938], Loss: 1.4731\n",
            "Epoch [7/10], Step [800/938], Loss: 1.4766\n",
            "Accuracy of the network on the 10000 test images: 98.13 %\n",
            "Epoch [8/10], Step [400/938], Loss: 1.4795\n",
            "Epoch [8/10], Step [800/938], Loss: 1.5022\n",
            "Accuracy of the network on the 10000 test images: 98.27 %\n",
            "Epoch [9/10], Step [400/938], Loss: 1.5086\n",
            "Epoch [9/10], Step [800/938], Loss: 1.4826\n",
            "Accuracy of the network on the 10000 test images: 97.98 %\n",
            "Epoch [10/10], Step [400/938], Loss: 1.4760\n",
            "Epoch [10/10], Step [800/938], Loss: 1.4716\n",
            "Accuracy of the network on the 10000 test images: 98.3 %\n"
          ]
        }
      ],
      "execution_count": 1
    },
    {
      "cell_type": "code",
      "source": "from sklearn.metrics import f1_score\n\ntotal_step = len(train_loader)\n\naccuracys_test_relu = []\n\nfor epoch in range(num_epochs):\n    for i, (images, labels) in enumerate(train_loader):\n        images = images.to(device)\n        labels = labels.to(device)\n\n        #Forward pass\n        outputs = model(images)\n        loss = cost(outputs, labels)\n\n        # Backward and optimize\n        optimizer.zero_grad()\n        loss.backward()\n        optimizer.step()\n\n        if (i+1) % 400 == 0:\n            print ('Epoch [{}/{}], Step [{}/{}], Loss: {:.4f}'\n        \t\t           .format(epoch+1, num_epochs, i+1, total_step, loss.item()))\n\n    with torch.no_grad():\n        correct = 0\n        total = 0\n        all_labels = []\n        all_outs = []\n        for images, labels in test_loader:\n            images = images.to(device)\n            labels = labels.to(device)\n            outputs = model(images)\n            _, predicted = torch.max(outputs.data, 1)\n            all_labels.extend(labels.cpu())\n            all_outs.extend(predicted.cpu())\n            total += labels.size(0)\n            correct += (predicted == labels).sum().item()\n\n        accuracys_test_relu.append(100 * correct / total)\n        print('Accuracy of the network on the 10000 test images: {} %'.format(100 * correct / total))",
      "metadata": {
        "colab": {
          "base_uri": "https://localhost:8080/"
        },
        "id": "UK99oVwQnRqH",
        "outputId": "55b65ae1-3a53-4796-f278-9c0a3e31f761"
      },
      "outputs": [
        {
          "output_type": "stream",
          "name": "stdout",
          "text": [
            "Epoch [1/10], Step [400/938], Loss: 1.6144\n",
            "Epoch [1/10], Step [800/938], Loss: 1.5385\n",
            "Accuracy of the network on the 10000 test images: 94.6 %\n",
            "Epoch [2/10], Step [400/938], Loss: 1.5118\n",
            "Epoch [2/10], Step [800/938], Loss: 1.5216\n",
            "Accuracy of the network on the 10000 test images: 96.46 %\n",
            "Epoch [3/10], Step [400/938], Loss: 1.5068\n",
            "Epoch [3/10], Step [800/938], Loss: 1.4623\n",
            "Accuracy of the network on the 10000 test images: 96.78 %\n",
            "Epoch [4/10], Step [400/938], Loss: 1.4988\n",
            "Epoch [4/10], Step [800/938], Loss: 1.5088\n",
            "Accuracy of the network on the 10000 test images: 97.31 %\n",
            "Epoch [5/10], Step [400/938], Loss: 1.5144\n",
            "Epoch [5/10], Step [800/938], Loss: 1.4746\n",
            "Accuracy of the network on the 10000 test images: 97.35 %\n",
            "Epoch [6/10], Step [400/938], Loss: 1.5345\n",
            "Epoch [6/10], Step [800/938], Loss: 1.4612\n",
            "Accuracy of the network on the 10000 test images: 97.57 %\n",
            "Epoch [7/10], Step [400/938], Loss: 1.4894\n",
            "Epoch [7/10], Step [800/938], Loss: 1.4735\n",
            "Accuracy of the network on the 10000 test images: 97.77 %\n",
            "Epoch [8/10], Step [400/938], Loss: 1.4774\n",
            "Epoch [8/10], Step [800/938], Loss: 1.5199\n",
            "Accuracy of the network on the 10000 test images: 97.8 %\n",
            "Epoch [9/10], Step [400/938], Loss: 1.4917\n",
            "Epoch [9/10], Step [800/938], Loss: 1.5118\n",
            "Accuracy of the network on the 10000 test images: 98.08 %\n",
            "Epoch [10/10], Step [400/938], Loss: 1.4618\n",
            "Epoch [10/10], Step [800/938], Loss: 1.4992\n",
            "Accuracy of the network on the 10000 test images: 98.22 %\n"
          ]
        }
      ],
      "execution_count": 2
    },
    {
      "cell_type": "markdown",
      "source": "### MaxPool",
      "metadata": {
        "id": "8tYAu6l6pQFx"
      }
    },
    {
      "cell_type": "code",
      "source": "class LeNet_MaxPool(nn.Module):\n    def __init__(self, num_classes):\n        super().__init__()\n        self.layer1 = nn.Sequential(\n            nn.Conv2d(1, 6, kernel_size=5, stride=1, padding=2),\n            nn.ReLU(),\n            nn.MaxPool2d(kernel_size = 2, stride = 2))\n        self.layer2 = nn.Sequential(\n            nn.Conv2d(6, 16, kernel_size=5, stride=1, padding=0),\n            nn.ReLU(),\n            nn.MaxPool2d(kernel_size = 2, stride = 2))\n        self.relu = nn.ReLU()\n        self.fc1 = nn.Linear(144, 84)\n        self.relu1 = nn.ReLU()\n        self.fc2 = nn.Linear(84, num_classes)\n        self.softmax = nn.Softmax()\n\n    def forward(self, x):\n        out = self.layer1(x)\n        out = self.layer2(out)\n        out = out.reshape(out.size(0), -1)\n        out = self.relu(out)\n        out = self.fc1(out)\n        out = self.relu1(out)\n        out = self.fc2(out)\n        out = self.softmax(out)\n        return out",
      "metadata": {
        "id": "o0-vvf_5pIhK"
      },
      "outputs": [],
      "execution_count": null
    },
    {
      "cell_type": "code",
      "source": "model = LeNet_MaxPool(num_classes).to(device)\n\noptimizer = torch.optim.Adam(model.parameters(), lr=learning_rate)",
      "metadata": {
        "id": "wB3GHIyppIpm"
      },
      "outputs": [],
      "execution_count": null
    },
    {
      "cell_type": "code",
      "source": "from sklearn.metrics import f1_score\n\ntotal_step = len(train_loader)\n\naccuracys_test_maxpool = []\n\nfor epoch in range(num_epochs):\n    for i, (images, labels) in enumerate(train_loader):\n        images = images.to(device)\n        labels = labels.to(device)\n\n        #Forward pass\n        outputs = model(images)\n        loss = cost(outputs, labels)\n\n        # Backward and optimize\n        optimizer.zero_grad()\n        loss.backward()\n        optimizer.step()\n\n        if (i+1) % 400 == 0:\n            print ('Epoch [{}/{}], Step [{}/{}], Loss: {:.4f}'\n        \t\t           .format(epoch+1, num_epochs, i+1, total_step, loss.item()))\n\n    with torch.no_grad():\n        correct = 0\n        total = 0\n        all_labels = []\n        all_outs = []\n        for images, labels in test_loader:\n            images = images.to(device)\n            labels = labels.to(device)\n            outputs = model(images)\n            _, predicted = torch.max(outputs.data, 1)\n            all_labels.extend(labels.cpu())\n            all_outs.extend(predicted.cpu())\n            total += labels.size(0)\n            correct += (predicted == labels).sum().item()\n\n        accuracys_test_maxpool.append(100 * correct / total)\n        print('Accuracy of the network on the 10000 test images: {} %'.format(100 * correct / total))",
      "metadata": {
        "colab": {
          "base_uri": "https://localhost:8080/"
        },
        "id": "HfgyXffqpI0r",
        "outputId": "5eb92093-6f1b-4c82-c4b9-4a12b0820261"
      },
      "outputs": [
        {
          "output_type": "stream",
          "name": "stderr",
          "text": [
            "/usr/local/lib/python3.10/dist-packages/torch/nn/modules/module.py:1511: UserWarning: Implicit dimension choice for softmax has been deprecated. Change the call to include dim=X as an argument.\n",
            "  return self._call_impl(*args, **kwargs)\n"
          ]
        },
        {
          "output_type": "stream",
          "name": "stdout",
          "text": [
            "Epoch [1/10], Step [400/938], Loss: 1.5866\n",
            "Epoch [1/10], Step [800/938], Loss: 1.5345\n",
            "Accuracy of the network on the 10000 test images: 95.89 %\n",
            "Epoch [2/10], Step [400/938], Loss: 1.4715\n",
            "Epoch [2/10], Step [800/938], Loss: 1.5829\n",
            "Accuracy of the network on the 10000 test images: 97.37 %\n",
            "Epoch [3/10], Step [400/938], Loss: 1.4773\n",
            "Epoch [3/10], Step [800/938], Loss: 1.4612\n",
            "Accuracy of the network on the 10000 test images: 97.72 %\n",
            "Epoch [4/10], Step [400/938], Loss: 1.4994\n",
            "Epoch [4/10], Step [800/938], Loss: 1.4846\n",
            "Accuracy of the network on the 10000 test images: 97.84 %\n",
            "Epoch [5/10], Step [400/938], Loss: 1.4953\n",
            "Epoch [5/10], Step [800/938], Loss: 1.4985\n",
            "Accuracy of the network on the 10000 test images: 98.11 %\n",
            "Epoch [6/10], Step [400/938], Loss: 1.4622\n",
            "Epoch [6/10], Step [800/938], Loss: 1.4882\n",
            "Accuracy of the network on the 10000 test images: 97.95 %\n",
            "Epoch [7/10], Step [400/938], Loss: 1.4770\n",
            "Epoch [7/10], Step [800/938], Loss: 1.4632\n",
            "Accuracy of the network on the 10000 test images: 98.24 %\n",
            "Epoch [8/10], Step [400/938], Loss: 1.4915\n",
            "Epoch [8/10], Step [800/938], Loss: 1.4816\n",
            "Accuracy of the network on the 10000 test images: 98.08 %\n",
            "Epoch [9/10], Step [400/938], Loss: 1.4946\n",
            "Epoch [9/10], Step [800/938], Loss: 1.4682\n",
            "Accuracy of the network on the 10000 test images: 98.12 %\n",
            "Epoch [10/10], Step [400/938], Loss: 1.4726\n",
            "Epoch [10/10], Step [800/938], Loss: 1.5086\n",
            "Accuracy of the network on the 10000 test images: 98.45 %\n"
          ]
        }
      ],
      "execution_count": null
    },
    {
      "cell_type": "markdown",
      "source": "### 2 kernel 3*3",
      "metadata": {
        "id": "64wTT6XjqDB5"
      }
    },
    {
      "cell_type": "code",
      "source": "class LeNet_TwoKernel(nn.Module):\n    def __init__(self, num_classes):\n        super().__init__()\n        self.layer1 = nn.Sequential(\n            nn.Conv2d(1, 6, kernel_size=3, stride=1, padding=1),\n            nn.Conv2d(6, 6, kernel_size=3, stride=1, padding=1),\n            nn.ReLU(),\n            nn.MaxPool2d(kernel_size = 2, stride = 2))\n        self.layer2 = nn.Sequential(\n            nn.Conv2d(6, 16, kernel_size=3, stride=1, padding=0),\n            nn.Conv2d(16, 16, kernel_size=3, stride=1, padding=0),\n            nn.ReLU(),\n            nn.MaxPool2d(kernel_size = 2, stride = 2))\n        self.relu = nn.ReLU()\n        self.fc1 = nn.Linear(144, 84)\n        self.relu1 = nn.ReLU()\n        self.fc2 = nn.Linear(84, num_classes)\n        self.softmax = nn.Softmax()\n\n    def forward(self, x):\n        out = self.layer1(x)\n        out = self.layer2(out)\n        out = out.reshape(out.size(0), -1)\n        out = self.relu(out)\n        out = self.fc1(out)\n        out = self.relu1(out)\n        out = self.fc2(out)\n        out = self.softmax(out)\n        return out",
      "metadata": {
        "id": "aZ27t1jppI-d"
      },
      "outputs": [],
      "execution_count": null
    },
    {
      "cell_type": "code",
      "source": "model = LeNet_TwoKernel(num_classes).to(device)\n\noptimizer = torch.optim.Adam(model.parameters(), lr=learning_rate)",
      "metadata": {
        "id": "jXYK4naipJHh"
      },
      "outputs": [],
      "execution_count": null
    },
    {
      "cell_type": "code",
      "source": "from sklearn.metrics import f1_score\n\ntotal_step = len(train_loader)\n\naccuracys_test_twokernel = []\n\nfor epoch in range(num_epochs):\n    for i, (images, labels) in enumerate(train_loader):\n        images = images.to(device)\n        labels = labels.to(device)\n\n        #Forward pass\n        outputs = model(images)\n        loss = cost(outputs, labels)\n\n        # Backward and optimize\n        optimizer.zero_grad()\n        loss.backward()\n        optimizer.step()\n\n        if (i+1) % 400 == 0:\n            print ('Epoch [{}/{}], Step [{}/{}], Loss: {:.4f}'\n        \t\t           .format(epoch+1, num_epochs, i+1, total_step, loss.item()))\n\n    with torch.no_grad():\n        correct = 0\n        total = 0\n        all_labels = []\n        all_outs = []\n        for images, labels in test_loader:\n            images = images.to(device)\n            labels = labels.to(device)\n            outputs = model(images)\n            _, predicted = torch.max(outputs.data, 1)\n            all_labels.extend(labels.cpu())\n            all_outs.extend(predicted.cpu())\n            total += labels.size(0)\n            correct += (predicted == labels).sum().item()\n\n        accuracys_test_twokernel.append(100 * correct / total)\n        print('Accuracy of the network on the 10000 test images: {} %'.format(100 * correct / total))",
      "metadata": {
        "colab": {
          "base_uri": "https://localhost:8080/"
        },
        "id": "2ZgxjFgnpJRg",
        "outputId": "8832c1a8-c365-4d3f-aa2e-219ffdd44221"
      },
      "outputs": [
        {
          "output_type": "stream",
          "name": "stderr",
          "text": [
            "/usr/local/lib/python3.10/dist-packages/torch/nn/modules/module.py:1511: UserWarning: Implicit dimension choice for softmax has been deprecated. Change the call to include dim=X as an argument.\n",
            "  return self._call_impl(*args, **kwargs)\n"
          ]
        },
        {
          "output_type": "stream",
          "name": "stdout",
          "text": [
            "Epoch [1/10], Step [400/938], Loss: 1.5826\n",
            "Epoch [1/10], Step [800/938], Loss: 1.6201\n",
            "Accuracy of the network on the 10000 test images: 87.39 %\n",
            "Epoch [2/10], Step [400/938], Loss: 1.5983\n",
            "Epoch [2/10], Step [800/938], Loss: 1.6139\n",
            "Accuracy of the network on the 10000 test images: 88.62 %\n",
            "Epoch [3/10], Step [400/938], Loss: 1.6008\n",
            "Epoch [3/10], Step [800/938], Loss: 1.5849\n",
            "Accuracy of the network on the 10000 test images: 88.75 %\n",
            "Epoch [4/10], Step [400/938], Loss: 1.6012\n",
            "Epoch [4/10], Step [800/938], Loss: 1.6620\n",
            "Accuracy of the network on the 10000 test images: 88.07 %\n",
            "Epoch [5/10], Step [400/938], Loss: 1.5292\n",
            "Epoch [5/10], Step [800/938], Loss: 1.5566\n",
            "Accuracy of the network on the 10000 test images: 89.19 %\n",
            "Epoch [6/10], Step [400/938], Loss: 1.5918\n",
            "Epoch [6/10], Step [800/938], Loss: 1.5548\n",
            "Accuracy of the network on the 10000 test images: 88.87 %\n",
            "Epoch [7/10], Step [400/938], Loss: 1.5237\n",
            "Epoch [7/10], Step [800/938], Loss: 1.4614\n",
            "Accuracy of the network on the 10000 test images: 97.35 %\n",
            "Epoch [8/10], Step [400/938], Loss: 1.5010\n",
            "Epoch [8/10], Step [800/938], Loss: 1.4612\n",
            "Accuracy of the network on the 10000 test images: 97.39 %\n",
            "Epoch [9/10], Step [400/938], Loss: 1.4612\n",
            "Epoch [9/10], Step [800/938], Loss: 1.4923\n",
            "Accuracy of the network on the 10000 test images: 97.87 %\n",
            "Epoch [10/10], Step [400/938], Loss: 1.4621\n",
            "Epoch [10/10], Step [800/938], Loss: 1.5127\n",
            "Accuracy of the network on the 10000 test images: 98.29 %\n"
          ]
        }
      ],
      "execution_count": null
    },
    {
      "cell_type": "code",
      "source": "from matplotlib import pyplot as plt\n\nplt.plot(accuracys_test)\nplt.plot(accuracys_test_relu)\nplt.plot(accuracys_test_maxpool)\nplt.plot(accuracys_test_twokernel)",
      "metadata": {
        "colab": {
          "base_uri": "https://localhost:8080/",
          "height": 447
        },
        "id": "c-XehciApJci",
        "outputId": "d28c0b10-b6df-412a-ef87-7239e2eae486"
      },
      "outputs": [
        {
          "output_type": "execute_result",
          "data": {
            "text/plain": [
              "[<matplotlib.lines.Line2D at 0x7c856b29d2d0>]"
            ]
          },
          "metadata": {},
          "execution_count": 87
        },
        {
          "output_type": "display_data",
          "data": {
            "text/plain": [
              "<Figure size 640x480 with 1 Axes>"
            ],
            "image/png": "[encoded data removed]"
          },
          "metadata": {}
        }
      ],
      "execution_count": null
    },
    {
      "cell_type": "markdown",
      "source": "## Test",
      "metadata": {
        "id": "Qs4cYTmmm1tm"
      }
    },
    {
      "cell_type": "code",
      "source": "# Test the model\n# In test phase, we don't need to compute gradients (for memory efficiency)\n\nwith torch.no_grad():\n    correct = 0\n    total = 0\n    all_labels = []\n    all_outs = []\n    for images, labels in test_loader:\n        images = images.to(device)\n        labels = labels.to(device)\n        outputs = model(images)\n        _, predicted = torch.max(outputs.data, 1)\n        all_labels.extend(labels.cpu())\n        all_outs.extend(predicted.cpu())\n        total += labels.size(0)\n        correct += (predicted == labels).sum().item()\n\n    print('Accuracy of the network on the 10000 test images: {} %'.format(100 * correct / total))\n",
      "metadata": {
        "colab": {
          "base_uri": "https://localhost:8080/"
        },
        "id": "gjsO4h1b2Qk0",
        "outputId": "1387cfc1-33c9-4e80-cd7d-3f208a065c12"
      },
      "outputs": [
        {
          "output_type": "stream",
          "name": "stderr",
          "text": [
            "/usr/local/lib/python3.10/dist-packages/torch/nn/modules/module.py:1511: UserWarning: Implicit dimension choice for softmax has been deprecated. Change the call to include dim=X as an argument.\n",
            "  return self._call_impl(*args, **kwargs)\n"
          ]
        },
        {
          "output_type": "stream",
          "name": "stdout",
          "text": [
            "Accuracy of the network on the 10000 test images: 98.4 %\n"
          ]
        }
      ],
      "execution_count": null
    },
    {
      "cell_type": "code",
      "source": "from sklearn.metrics import classification_report\n\nprint(classification_report(all_labels, all_outs))",
      "metadata": {
        "colab": {
          "base_uri": "https://localhost:8080/"
        },
        "id": "MDb_6w78SR9-",
        "outputId": "c5b5c148-270e-43c2-904c-8573065e5f8f"
      },
      "outputs": [
        {
          "output_type": "stream",
          "name": "stdout",
          "text": [
            "              precision    recall  f1-score   support\n",
            "\n",
            "           0       0.98      1.00      0.99       980\n",
            "           1       0.99      0.99      0.99      1135\n",
            "           2       0.98      0.99      0.98      1032\n",
            "           3       0.98      0.98      0.98      1010\n",
            "           4       0.99      0.98      0.99       982\n",
            "           5       0.97      0.99      0.98       892\n",
            "           6       0.99      0.98      0.99       958\n",
            "           7       0.98      0.98      0.98      1028\n",
            "           8       0.97      0.99      0.98       974\n",
            "           9       0.98      0.98      0.98      1009\n",
            "\n",
            "    accuracy                           0.98     10000\n",
            "   macro avg       0.98      0.98      0.98     10000\n",
            "weighted avg       0.98      0.98      0.98     10000\n",
            "\n"
          ]
        }
      ],
      "execution_count": null
    },
    {
      "cell_type": "code",
      "source": "",
      "metadata": {
        "id": "aOJs6FF2bVGB"
      },
      "outputs": [],
      "execution_count": null
    }
  ]
}