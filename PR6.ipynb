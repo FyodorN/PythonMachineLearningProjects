{
  "cells": [
    {
      "cell_type": "markdown",
      "metadata": {
        "id": "1kPNWbYKNBGV"
      },
      "source": [
        "**Задача:** классификация текстов Шекспира по жанрам"
      ]
    },
    {
      "cell_type": "markdown",
      "metadata": {
        "id": "fpZ9Gq5qNRR6"
      },
      "source": [
        "# Загрузка библиотек"
      ]
    },
    {
      "cell_type": "code",
      "execution_count": 2,
      "metadata": {
        "id": "merAL9rKPb3b"
      },
      "outputs": [],
      "source": [
        "import pandas as pd\n",
        "import numpy as np\n",
        "import matplotlib.pyplot as plt\n",
        "from sklearn.model_selection import train_test_split\n",
        "from sklearn.feature_extraction.text import CountVectorizer, TfidfVectorizer\n",
        "import torch\n",
        "import torch.nn as nn\n",
        "import torch.optim as optim\n",
        "from torch.utils.data import DataLoader, TensorDataset\n",
        "import gensim.downloader as downloader # Для скачивания предобученного word2vec"
      ]
    },
    {
      "cell_type": "code",
      "execution_count": 4,
      "metadata": {
        "colab": {
          "base_uri": "https://localhost:8080/"
        },
        "id": "hNPQLgFSA7aa",
        "outputId": "db129350-3d32-4ed5-9444-c05de1742a47"
      },
      "outputs": [
        {
          "name": "stderr",
          "output_type": "stream",
          "text": [
            "[nltk_data] Downloading package wordnet to /Users/dimach/nltk_data...\n",
            "[nltk_data] Downloading package stopwords to\n",
            "[nltk_data]     /Users/dimach/nltk_data...\n",
            "[nltk_data]   Unzipping corpora/stopwords.zip.\n",
            "[nltk_data] Downloading package punkt to /Users/dimach/nltk_data...\n",
            "[nltk_data]   Unzipping tokenizers/punkt.zip.\n",
            "[nltk_data] Downloading package averaged_perceptron_tagger to\n",
            "[nltk_data]     /Users/dimach/nltk_data...\n",
            "[nltk_data]   Unzipping taggers/averaged_perceptron_tagger.zip.\n"
          ]
        },
        {
          "data": {
            "text/plain": [
              "True"
            ]
          },
          "execution_count": 4,
          "metadata": {},
          "output_type": "execute_result"
        }
      ],
      "source": [
        "import nltk # Библиотека для работы с текстовыми данными\n",
        "from nltk import pos_tag # Функция, определяющая часть речи слова\n",
        "from nltk.corpus import stopwords # Стоп-слова, который нужно удалить из текста\n",
        "from nltk.tokenize import word_tokenize # Токенизатор, разделяющий текст на отдельные слова\n",
        "from nltk.stem import WordNetLemmatizer # Лемматизатор - объект, приводящий слово к начальной форме\n",
        "\n",
        "nltk.download('wordnet') # Загрузка базы данных английских слов, частей речи и т.п. для работы лемматизатора, токенизатора и т.п.\n",
        "nltk.download('stopwords') # Загрузка набора стоп слов\n",
        "nltk.download('punkt') # Загрузка данных для токенизатора\n",
        "nltk.download('averaged_perceptron_tagger') # Инструмент для маркировки частей речи"
      ]
    },
    {
      "cell_type": "markdown",
      "metadata": {
        "id": "537XcijhPlbZ"
      },
      "source": [
        "# Загрузка данных"
      ]
    },
    {
      "cell_type": "code",
      "execution_count": 44,
      "metadata": {
        "colab": {
          "base_uri": "https://localhost:8080/",
          "height": 562
        },
        "id": "jnpL8BP6R2tB",
        "outputId": "36be8fef-1586-481e-bed4-0232eb0cc825"
      },
      "outputs": [
        {
          "data": {
            "text/html": [
              "<div>\n",
              "<style scoped>\n",
              "    .dataframe tbody tr th:only-of-type {\n",
              "        vertical-align: middle;\n",
              "    }\n",
              "\n",
              "    .dataframe tbody tr th {\n",
              "        vertical-align: top;\n",
              "    }\n",
              "\n",
              "    .dataframe thead th {\n",
              "        text-align: right;\n",
              "    }\n",
              "</style>\n",
              "<table border=\"1\" class=\"dataframe\">\n",
              "  <thead>\n",
              "    <tr style=\"text-align: right;\">\n",
              "      <th></th>\n",
              "      <th>review_id</th>\n",
              "      <th>fav_heroe</th>\n",
              "      <th>fav_villain</th>\n",
              "      <th>fav_film</th>\n",
              "      <th>fav_soundtrack</th>\n",
              "      <th>fav_spaceship</th>\n",
              "      <th>fav_planet</th>\n",
              "      <th>fav_robot</th>\n",
              "    </tr>\n",
              "  </thead>\n",
              "  <tbody>\n",
              "    <tr>\n",
              "      <th>0</th>\n",
              "      <td>0</td>\n",
              "      <td>Anakin Skywalker</td>\n",
              "      <td>Darth Maul</td>\n",
              "      <td>Episode IV - A New Hope</td>\n",
              "      <td>Accross the Stars</td>\n",
              "      <td>Naboo Starfighter</td>\n",
              "      <td>Tatooine</td>\n",
              "      <td>R2-D2</td>\n",
              "    </tr>\n",
              "    <tr>\n",
              "      <th>1</th>\n",
              "      <td>1</td>\n",
              "      <td>Anakin Skywalker</td>\n",
              "      <td>Darth Maul</td>\n",
              "      <td>Episode IV - A New Hope</td>\n",
              "      <td>The Throne Room</td>\n",
              "      <td>Naboo Starfighter</td>\n",
              "      <td>Tatooine</td>\n",
              "      <td>Battle Droid</td>\n",
              "    </tr>\n",
              "    <tr>\n",
              "      <th>2</th>\n",
              "      <td>2</td>\n",
              "      <td>Luke Skywalker</td>\n",
              "      <td>Count Dooku</td>\n",
              "      <td>Episode V - The Empire Strikes Back</td>\n",
              "      <td>Star Wars (Main Theme)</td>\n",
              "      <td>Millennium Falcon</td>\n",
              "      <td>Endor</td>\n",
              "      <td>R2-D2</td>\n",
              "    </tr>\n",
              "    <tr>\n",
              "      <th>3</th>\n",
              "      <td>3</td>\n",
              "      <td>Anakin Skywalker</td>\n",
              "      <td>Wilhuff Tarkin</td>\n",
              "      <td>Episode VI - Return of the Jedi</td>\n",
              "      <td>The Throne Room</td>\n",
              "      <td>Millennium Falcon</td>\n",
              "      <td>Tatooine</td>\n",
              "      <td>R2-D2</td>\n",
              "    </tr>\n",
              "    <tr>\n",
              "      <th>4</th>\n",
              "      <td>4</td>\n",
              "      <td>Yoda</td>\n",
              "      <td>Palpatine</td>\n",
              "      <td>Episode IV - A New Hope</td>\n",
              "      <td>Star Wars (Main Theme)</td>\n",
              "      <td>Millennium Falcon</td>\n",
              "      <td>Naboo</td>\n",
              "      <td>C-3PO</td>\n",
              "    </tr>\n",
              "    <tr>\n",
              "      <th>...</th>\n",
              "      <td>...</td>\n",
              "      <td>...</td>\n",
              "      <td>...</td>\n",
              "      <td>...</td>\n",
              "      <td>...</td>\n",
              "      <td>...</td>\n",
              "      <td>...</td>\n",
              "      <td>...</td>\n",
              "    </tr>\n",
              "    <tr>\n",
              "      <th>36922</th>\n",
              "      <td>36922</td>\n",
              "      <td>Obi-Wan Kenobi</td>\n",
              "      <td>Palpatine</td>\n",
              "      <td>Episode VI - Return of the Jedi</td>\n",
              "      <td>Imperial March</td>\n",
              "      <td>Millennium Falcon</td>\n",
              "      <td>Naboo</td>\n",
              "      <td>C-3PO</td>\n",
              "    </tr>\n",
              "    <tr>\n",
              "      <th>36923</th>\n",
              "      <td>36923</td>\n",
              "      <td>Han Solo</td>\n",
              "      <td>Darth Vader</td>\n",
              "      <td>Episode VI - Return of the Jedi</td>\n",
              "      <td>Imperial March</td>\n",
              "      <td>Naboo Starfighter</td>\n",
              "      <td>Tatooine</td>\n",
              "      <td>C-3PO</td>\n",
              "    </tr>\n",
              "    <tr>\n",
              "      <th>36924</th>\n",
              "      <td>36924</td>\n",
              "      <td>Han Solo</td>\n",
              "      <td>Darth Maul</td>\n",
              "      <td>Episode VI - Return of the Jedi</td>\n",
              "      <td>Imperial March</td>\n",
              "      <td>Millennium Falcon</td>\n",
              "      <td>Alderaan</td>\n",
              "      <td>C-3PO</td>\n",
              "    </tr>\n",
              "    <tr>\n",
              "      <th>36925</th>\n",
              "      <td>36925</td>\n",
              "      <td>Anakin Skywalker</td>\n",
              "      <td>Count Dooku</td>\n",
              "      <td>Episode VI - Return of the Jedi</td>\n",
              "      <td>Star Wars (Main Theme)</td>\n",
              "      <td>Millennium Falcon</td>\n",
              "      <td>Endor</td>\n",
              "      <td>C-3PO</td>\n",
              "    </tr>\n",
              "    <tr>\n",
              "      <th>36926</th>\n",
              "      <td>36926</td>\n",
              "      <td>Chewbacca</td>\n",
              "      <td>Palpatine</td>\n",
              "      <td>Episode V - The Empire Strikes Back</td>\n",
              "      <td>The Throne Room</td>\n",
              "      <td>Millennium Falcon</td>\n",
              "      <td>Tatooine</td>\n",
              "      <td>R2-D2</td>\n",
              "    </tr>\n",
              "  </tbody>\n",
              "</table>\n",
              "<p>36927 rows × 8 columns</p>\n",
              "</div>"
            ],
            "text/plain": [
              "       review_id         fav_heroe     fav_villain  \\\n",
              "0              0  Anakin Skywalker      Darth Maul   \n",
              "1              1  Anakin Skywalker      Darth Maul   \n",
              "2              2    Luke Skywalker     Count Dooku   \n",
              "3              3  Anakin Skywalker  Wilhuff Tarkin   \n",
              "4              4              Yoda       Palpatine   \n",
              "...          ...               ...             ...   \n",
              "36922      36922    Obi-Wan Kenobi       Palpatine   \n",
              "36923      36923          Han Solo     Darth Vader   \n",
              "36924      36924          Han Solo      Darth Maul   \n",
              "36925      36925  Anakin Skywalker     Count Dooku   \n",
              "36926      36926         Chewbacca       Palpatine   \n",
              "\n",
              "                                  fav_film          fav_soundtrack  \\\n",
              "0                  Episode IV - A New Hope       Accross the Stars   \n",
              "1                  Episode IV - A New Hope         The Throne Room   \n",
              "2      Episode V - The Empire Strikes Back  Star Wars (Main Theme)   \n",
              "3          Episode VI - Return of the Jedi         The Throne Room   \n",
              "4                  Episode IV - A New Hope  Star Wars (Main Theme)   \n",
              "...                                    ...                     ...   \n",
              "36922      Episode VI - Return of the Jedi          Imperial March   \n",
              "36923      Episode VI - Return of the Jedi          Imperial March   \n",
              "36924      Episode VI - Return of the Jedi          Imperial March   \n",
              "36925      Episode VI - Return of the Jedi  Star Wars (Main Theme)   \n",
              "36926  Episode V - The Empire Strikes Back         The Throne Room   \n",
              "\n",
              "           fav_spaceship fav_planet     fav_robot  \n",
              "0      Naboo Starfighter   Tatooine         R2-D2  \n",
              "1      Naboo Starfighter   Tatooine  Battle Droid  \n",
              "2      Millennium Falcon      Endor         R2-D2  \n",
              "3      Millennium Falcon   Tatooine         R2-D2  \n",
              "4      Millennium Falcon      Naboo         C-3PO  \n",
              "...                  ...        ...           ...  \n",
              "36922  Millennium Falcon      Naboo         C-3PO  \n",
              "36923  Naboo Starfighter   Tatooine         C-3PO  \n",
              "36924  Millennium Falcon   Alderaan         C-3PO  \n",
              "36925  Millennium Falcon      Endor         C-3PO  \n",
              "36926  Millennium Falcon   Tatooine         R2-D2  \n",
              "\n",
              "[36927 rows x 8 columns]"
            ]
          },
          "execution_count": 44,
          "metadata": {},
          "output_type": "execute_result"
        }
      ],
      "source": [
        "#data = pd.read_csv(\"filmtv_movies.csv\")\n",
        "data = pd.read_csv(\"star_wars_reviews.csv\")\n",
        "data"
      ]
    },
    {
      "cell_type": "markdown",
      "metadata": {
        "id": "KOcUEOa1Puz_"
      },
      "source": [
        "# Предобработка данных"
      ]
    },
    {
      "cell_type": "markdown",
      "metadata": {
        "id": "15OJ7Q5UPyAb"
      },
      "source": [
        "Удалим все столбцы кроме необходимых для классификации и подготовки данных"
      ]
    },
    {
      "cell_type": "code",
      "execution_count": 45,
      "metadata": {
        "id": "bYR1N2kDSdxt"
      },
      "outputs": [
        {
          "data": {
            "text/html": [
              "<div>\n",
              "<style scoped>\n",
              "    .dataframe tbody tr th:only-of-type {\n",
              "        vertical-align: middle;\n",
              "    }\n",
              "\n",
              "    .dataframe tbody tr th {\n",
              "        vertical-align: top;\n",
              "    }\n",
              "\n",
              "    .dataframe thead th {\n",
              "        text-align: right;\n",
              "    }\n",
              "</style>\n",
              "<table border=\"1\" class=\"dataframe\">\n",
              "  <thead>\n",
              "    <tr style=\"text-align: right;\">\n",
              "      <th></th>\n",
              "      <th>fav_heroe</th>\n",
              "      <th>fav_villain</th>\n",
              "      <th>fav_film</th>\n",
              "      <th>fav_soundtrack</th>\n",
              "      <th>fav_planet</th>\n",
              "    </tr>\n",
              "  </thead>\n",
              "  <tbody>\n",
              "    <tr>\n",
              "      <th>0</th>\n",
              "      <td>Anakin Skywalker</td>\n",
              "      <td>Darth Maul</td>\n",
              "      <td>Episode IV - A New Hope</td>\n",
              "      <td>Accross the Stars</td>\n",
              "      <td>Tatooine</td>\n",
              "    </tr>\n",
              "    <tr>\n",
              "      <th>1</th>\n",
              "      <td>Anakin Skywalker</td>\n",
              "      <td>Darth Maul</td>\n",
              "      <td>Episode IV - A New Hope</td>\n",
              "      <td>The Throne Room</td>\n",
              "      <td>Tatooine</td>\n",
              "    </tr>\n",
              "    <tr>\n",
              "      <th>2</th>\n",
              "      <td>Luke Skywalker</td>\n",
              "      <td>Count Dooku</td>\n",
              "      <td>Episode V - The Empire Strikes Back</td>\n",
              "      <td>Star Wars (Main Theme)</td>\n",
              "      <td>Endor</td>\n",
              "    </tr>\n",
              "    <tr>\n",
              "      <th>3</th>\n",
              "      <td>Anakin Skywalker</td>\n",
              "      <td>Wilhuff Tarkin</td>\n",
              "      <td>Episode VI - Return of the Jedi</td>\n",
              "      <td>The Throne Room</td>\n",
              "      <td>Tatooine</td>\n",
              "    </tr>\n",
              "    <tr>\n",
              "      <th>4</th>\n",
              "      <td>Yoda</td>\n",
              "      <td>Palpatine</td>\n",
              "      <td>Episode IV - A New Hope</td>\n",
              "      <td>Star Wars (Main Theme)</td>\n",
              "      <td>Naboo</td>\n",
              "    </tr>\n",
              "    <tr>\n",
              "      <th>...</th>\n",
              "      <td>...</td>\n",
              "      <td>...</td>\n",
              "      <td>...</td>\n",
              "      <td>...</td>\n",
              "      <td>...</td>\n",
              "    </tr>\n",
              "    <tr>\n",
              "      <th>36922</th>\n",
              "      <td>Obi-Wan Kenobi</td>\n",
              "      <td>Palpatine</td>\n",
              "      <td>Episode VI - Return of the Jedi</td>\n",
              "      <td>Imperial March</td>\n",
              "      <td>Naboo</td>\n",
              "    </tr>\n",
              "    <tr>\n",
              "      <th>36923</th>\n",
              "      <td>Han Solo</td>\n",
              "      <td>Darth Vader</td>\n",
              "      <td>Episode VI - Return of the Jedi</td>\n",
              "      <td>Imperial March</td>\n",
              "      <td>Tatooine</td>\n",
              "    </tr>\n",
              "    <tr>\n",
              "      <th>36924</th>\n",
              "      <td>Han Solo</td>\n",
              "      <td>Darth Maul</td>\n",
              "      <td>Episode VI - Return of the Jedi</td>\n",
              "      <td>Imperial March</td>\n",
              "      <td>Alderaan</td>\n",
              "    </tr>\n",
              "    <tr>\n",
              "      <th>36925</th>\n",
              "      <td>Anakin Skywalker</td>\n",
              "      <td>Count Dooku</td>\n",
              "      <td>Episode VI - Return of the Jedi</td>\n",
              "      <td>Star Wars (Main Theme)</td>\n",
              "      <td>Endor</td>\n",
              "    </tr>\n",
              "    <tr>\n",
              "      <th>36926</th>\n",
              "      <td>Chewbacca</td>\n",
              "      <td>Palpatine</td>\n",
              "      <td>Episode V - The Empire Strikes Back</td>\n",
              "      <td>The Throne Room</td>\n",
              "      <td>Tatooine</td>\n",
              "    </tr>\n",
              "  </tbody>\n",
              "</table>\n",
              "<p>36927 rows × 5 columns</p>\n",
              "</div>"
            ],
            "text/plain": [
              "              fav_heroe     fav_villain                             fav_film  \\\n",
              "0      Anakin Skywalker      Darth Maul              Episode IV - A New Hope   \n",
              "1      Anakin Skywalker      Darth Maul              Episode IV - A New Hope   \n",
              "2        Luke Skywalker     Count Dooku  Episode V - The Empire Strikes Back   \n",
              "3      Anakin Skywalker  Wilhuff Tarkin      Episode VI - Return of the Jedi   \n",
              "4                  Yoda       Palpatine              Episode IV - A New Hope   \n",
              "...                 ...             ...                                  ...   \n",
              "36922    Obi-Wan Kenobi       Palpatine      Episode VI - Return of the Jedi   \n",
              "36923          Han Solo     Darth Vader      Episode VI - Return of the Jedi   \n",
              "36924          Han Solo      Darth Maul      Episode VI - Return of the Jedi   \n",
              "36925  Anakin Skywalker     Count Dooku      Episode VI - Return of the Jedi   \n",
              "36926         Chewbacca       Palpatine  Episode V - The Empire Strikes Back   \n",
              "\n",
              "               fav_soundtrack fav_planet  \n",
              "0           Accross the Stars   Tatooine  \n",
              "1             The Throne Room   Tatooine  \n",
              "2      Star Wars (Main Theme)      Endor  \n",
              "3             The Throne Room   Tatooine  \n",
              "4      Star Wars (Main Theme)      Naboo  \n",
              "...                       ...        ...  \n",
              "36922          Imperial March      Naboo  \n",
              "36923          Imperial March   Tatooine  \n",
              "36924          Imperial March   Alderaan  \n",
              "36925  Star Wars (Main Theme)      Endor  \n",
              "36926         The Throne Room   Tatooine  \n",
              "\n",
              "[36927 rows x 5 columns]"
            ]
          },
          "execution_count": 45,
          "metadata": {},
          "output_type": "execute_result"
        }
      ],
      "source": [
        "#data = data[['title', 'genre', 'country', 'avg_vote', 'description']]\n",
        "data = data[['fav_heroe', 'fav_villain', 'fav_film', 'fav_soundtrack', 'fav_planet']]\n",
        "\n",
        "data.dropna()"
      ]
    },
    {
      "cell_type": "markdown",
      "metadata": {
        "id": "Qof6kiS9P9fl"
      },
      "source": [
        "Проверка на наличие пропусков"
      ]
    },
    {
      "cell_type": "code",
      "execution_count": 46,
      "metadata": {
        "colab": {
          "base_uri": "https://localhost:8080/"
        },
        "id": "FIf_XMy69O8T",
        "outputId": "3bf519e5-e2e9-4b00-ad76-819a5fc2c5cd"
      },
      "outputs": [
        {
          "name": "stdout",
          "output_type": "stream",
          "text": [
            "<class 'pandas.core.frame.DataFrame'>\n",
            "RangeIndex: 36927 entries, 0 to 36926\n",
            "Data columns (total 5 columns):\n",
            " #   Column          Non-Null Count  Dtype \n",
            "---  ------          --------------  ----- \n",
            " 0   fav_heroe       36927 non-null  object\n",
            " 1   fav_villain     36927 non-null  object\n",
            " 2   fav_film        36927 non-null  object\n",
            " 3   fav_soundtrack  36927 non-null  object\n",
            " 4   fav_planet      36927 non-null  object\n",
            "dtypes: object(5)\n",
            "memory usage: 1.4+ MB\n"
          ]
        }
      ],
      "source": [
        "data.info()"
      ]
    },
    {
      "cell_type": "markdown",
      "metadata": {
        "id": "pdRJJbmiQBhc"
      },
      "source": [
        "Данные устроены следующим образом: пьеса состоит из актов, акты из сцен, сцена из предложений. У каждой пьесы только один жанр.\n",
        "\n",
        "Классифицировать будем не предложения, а сцены, для сохранения большего контекста.\n",
        "\n",
        "Сгруппируем данные: все предложения в рамках каждой сцены соберём в одно, сопоставиви каждой сцены жанр пьесы, из которой она взята"
      ]
    },
    {
      "cell_type": "code",
      "execution_count": 49,
      "metadata": {
        "id": "l7m5vI-Y9EcO"
      },
      "outputs": [],
      "source": [
        "plans = data.groupby(['fav_heroe', 'fav_villain', 'fav_film']).agg({\n",
        "    'fav_planet': 'first'\n",
        "}).reset_index()\n"
      ]
    },
    {
      "cell_type": "code",
      "execution_count": 51,
      "metadata": {
        "colab": {
          "base_uri": "https://localhost:8080/",
          "height": 423
        },
        "id": "QJcwFT68-Qzu",
        "outputId": "7e133620-f945-4364-d12b-787b495a19d9"
      },
      "outputs": [
        {
          "data": {
            "text/html": [
              "<div>\n",
              "<style scoped>\n",
              "    .dataframe tbody tr th:only-of-type {\n",
              "        vertical-align: middle;\n",
              "    }\n",
              "\n",
              "    .dataframe tbody tr th {\n",
              "        vertical-align: top;\n",
              "    }\n",
              "\n",
              "    .dataframe thead th {\n",
              "        text-align: right;\n",
              "    }\n",
              "</style>\n",
              "<table border=\"1\" class=\"dataframe\">\n",
              "  <thead>\n",
              "    <tr style=\"text-align: right;\">\n",
              "      <th></th>\n",
              "      <th>fav_heroe</th>\n",
              "      <th>fav_villain</th>\n",
              "      <th>fav_film</th>\n",
              "      <th>fav_planet</th>\n",
              "    </tr>\n",
              "  </thead>\n",
              "  <tbody>\n",
              "    <tr>\n",
              "      <th>0</th>\n",
              "      <td>Anakin Skywalker</td>\n",
              "      <td>Count Dooku</td>\n",
              "      <td>Episode I - The Phantom Menace</td>\n",
              "      <td>Naboo</td>\n",
              "    </tr>\n",
              "    <tr>\n",
              "      <th>1</th>\n",
              "      <td>Anakin Skywalker</td>\n",
              "      <td>Count Dooku</td>\n",
              "      <td>Episode II - Attack of the Clones</td>\n",
              "      <td>Tatooine</td>\n",
              "    </tr>\n",
              "    <tr>\n",
              "      <th>2</th>\n",
              "      <td>Anakin Skywalker</td>\n",
              "      <td>Count Dooku</td>\n",
              "      <td>Episode III - Revenge of the Sith</td>\n",
              "      <td>Naboo</td>\n",
              "    </tr>\n",
              "    <tr>\n",
              "      <th>3</th>\n",
              "      <td>Anakin Skywalker</td>\n",
              "      <td>Count Dooku</td>\n",
              "      <td>Episode IV - A New Hope</td>\n",
              "      <td>Tatooine</td>\n",
              "    </tr>\n",
              "    <tr>\n",
              "      <th>4</th>\n",
              "      <td>Anakin Skywalker</td>\n",
              "      <td>Count Dooku</td>\n",
              "      <td>Episode V - The Empire Strikes Back</td>\n",
              "      <td>Naboo</td>\n",
              "    </tr>\n",
              "    <tr>\n",
              "      <th>...</th>\n",
              "      <td>...</td>\n",
              "      <td>...</td>\n",
              "      <td>...</td>\n",
              "      <td>...</td>\n",
              "    </tr>\n",
              "    <tr>\n",
              "      <th>319</th>\n",
              "      <td>Yoda</td>\n",
              "      <td>Wilhuff Tarkin</td>\n",
              "      <td>Episode II - Attack of the Clones</td>\n",
              "      <td>Tatooine</td>\n",
              "    </tr>\n",
              "    <tr>\n",
              "      <th>320</th>\n",
              "      <td>Yoda</td>\n",
              "      <td>Wilhuff Tarkin</td>\n",
              "      <td>Episode III - Revenge of the Sith</td>\n",
              "      <td>Naboo</td>\n",
              "    </tr>\n",
              "    <tr>\n",
              "      <th>321</th>\n",
              "      <td>Yoda</td>\n",
              "      <td>Wilhuff Tarkin</td>\n",
              "      <td>Episode IV - A New Hope</td>\n",
              "      <td>Tatooine</td>\n",
              "    </tr>\n",
              "    <tr>\n",
              "      <th>322</th>\n",
              "      <td>Yoda</td>\n",
              "      <td>Wilhuff Tarkin</td>\n",
              "      <td>Episode V - The Empire Strikes Back</td>\n",
              "      <td>Tatooine</td>\n",
              "    </tr>\n",
              "    <tr>\n",
              "      <th>323</th>\n",
              "      <td>Yoda</td>\n",
              "      <td>Wilhuff Tarkin</td>\n",
              "      <td>Episode VI - Return of the Jedi</td>\n",
              "      <td>Naboo</td>\n",
              "    </tr>\n",
              "  </tbody>\n",
              "</table>\n",
              "<p>324 rows × 4 columns</p>\n",
              "</div>"
            ],
            "text/plain": [
              "            fav_heroe     fav_villain                             fav_film  \\\n",
              "0    Anakin Skywalker     Count Dooku       Episode I - The Phantom Menace   \n",
              "1    Anakin Skywalker     Count Dooku    Episode II - Attack of the Clones   \n",
              "2    Anakin Skywalker     Count Dooku    Episode III - Revenge of the Sith   \n",
              "3    Anakin Skywalker     Count Dooku              Episode IV - A New Hope   \n",
              "4    Anakin Skywalker     Count Dooku  Episode V - The Empire Strikes Back   \n",
              "..                ...             ...                                  ...   \n",
              "319              Yoda  Wilhuff Tarkin    Episode II - Attack of the Clones   \n",
              "320              Yoda  Wilhuff Tarkin    Episode III - Revenge of the Sith   \n",
              "321              Yoda  Wilhuff Tarkin              Episode IV - A New Hope   \n",
              "322              Yoda  Wilhuff Tarkin  Episode V - The Empire Strikes Back   \n",
              "323              Yoda  Wilhuff Tarkin      Episode VI - Return of the Jedi   \n",
              "\n",
              "    fav_planet  \n",
              "0        Naboo  \n",
              "1     Tatooine  \n",
              "2        Naboo  \n",
              "3     Tatooine  \n",
              "4        Naboo  \n",
              "..         ...  \n",
              "319   Tatooine  \n",
              "320      Naboo  \n",
              "321   Tatooine  \n",
              "322   Tatooine  \n",
              "323      Naboo  \n",
              "\n",
              "[324 rows x 4 columns]"
            ]
          },
          "execution_count": 51,
          "metadata": {},
          "output_type": "execute_result"
        }
      ],
      "source": [
        "plans.dropna()\n",
        "plans"
      ]
    },
    {
      "cell_type": "code",
      "execution_count": 53,
      "metadata": {
        "colab": {
          "base_uri": "https://localhost:8080/",
          "height": 448
        },
        "id": "sM5GGNAl-hyT",
        "outputId": "dac0c699-99db-49bb-ff1e-4c4624a187ca"
      },
      "outputs": [
        {
          "data": {
            "text/plain": [
              "[]"
            ]
          },
          "execution_count": 53,
          "metadata": {},
          "output_type": "execute_result"
        },
        {
          "data": {
            "image/png": "[encoded data removed]",
            "text/plain": [
              "<Figure size 640x480 with 1 Axes>"
            ]
          },
          "metadata": {},
          "output_type": "display_data"
        }
      ],
      "source": [
        "plt.hist(plans['fav_planet'], bins=5,edgecolor='black')\n",
        "plt.plot()"
      ]
    },
    {
      "cell_type": "code",
      "execution_count": 54,
      "metadata": {
        "id": "ezpNQ7NGAuYu"
      },
      "outputs": [],
      "source": [
        "Lemmatizer = WordNetLemmatizer()\n",
        "\n",
        "def lemmatizer_tag(word): # Получение части речи в формате, который требует лемматизатор\n",
        "  tag = pos_tag([word])[0][1][0].upper()\n",
        "  tag_dict = {\n",
        "      \"J\": \"a\",  # Прилагательное\n",
        "      \"N\": \"n\",  # Существительное\n",
        "      \"R\": \"r\",  # Наречие\n",
        "      \"V\": \"v\",  # Глагол\n",
        "    }\n",
        "  return tag_dict.get(tag, \"n\")\n",
        "\n",
        "def clean_text(text, normalization=False):\n",
        "  text = text.lower() # Приведение к нижнему регистру\n",
        "  words = word_tokenize(text) # Токенизация\n",
        "  no_stop_words = [word for word in words if word not in set(stopwords.words('english')) and word.isalpha()] # Удаление стоп-слов и не-слов (цифр, спец знаков и т.п.)\n",
        "  if normalization: # Лемматизация (метод нормализации) происходит, если того требует пользователь\n",
        "    cleaned_words = [Lemmatizer.lemmatize(word, lemmatizer_tag(word)) for word in no_stop_words]\n",
        "    return ' '.join(cleaned_words)\n",
        "  return ' '.join(no_stop_words)"
      ]
    },
    {
      "cell_type": "code",
      "execution_count": 55,
      "metadata": {
        "colab": {
          "base_uri": "https://localhost:8080/",
          "height": 597
        },
        "id": "6Z0Qb5Z_DU8M",
        "outputId": "d3cd1b84-e7ee-4a79-8e31-8f63f6601722"
      },
      "outputs": [
        {
          "data": {
            "text/html": [
              "<div>\n",
              "<style scoped>\n",
              "    .dataframe tbody tr th:only-of-type {\n",
              "        vertical-align: middle;\n",
              "    }\n",
              "\n",
              "    .dataframe tbody tr th {\n",
              "        vertical-align: top;\n",
              "    }\n",
              "\n",
              "    .dataframe thead th {\n",
              "        text-align: right;\n",
              "    }\n",
              "</style>\n",
              "<table border=\"1\" class=\"dataframe\">\n",
              "  <thead>\n",
              "    <tr style=\"text-align: right;\">\n",
              "      <th></th>\n",
              "      <th>fav_heroe</th>\n",
              "      <th>fav_villain</th>\n",
              "      <th>fav_film</th>\n",
              "      <th>fav_planet</th>\n",
              "      <th>clear_films</th>\n",
              "      <th>normalized_films</th>\n",
              "    </tr>\n",
              "  </thead>\n",
              "  <tbody>\n",
              "    <tr>\n",
              "      <th>0</th>\n",
              "      <td>Anakin Skywalker</td>\n",
              "      <td>Count Dooku</td>\n",
              "      <td>Episode I - The Phantom Menace</td>\n",
              "      <td>Naboo</td>\n",
              "      <td>episode phantom menace</td>\n",
              "      <td>episode phantom menace</td>\n",
              "    </tr>\n",
              "    <tr>\n",
              "      <th>1</th>\n",
              "      <td>Anakin Skywalker</td>\n",
              "      <td>Count Dooku</td>\n",
              "      <td>Episode II - Attack of the Clones</td>\n",
              "      <td>Tatooine</td>\n",
              "      <td>episode ii attack clones</td>\n",
              "      <td>episode ii attack clone</td>\n",
              "    </tr>\n",
              "    <tr>\n",
              "      <th>2</th>\n",
              "      <td>Anakin Skywalker</td>\n",
              "      <td>Count Dooku</td>\n",
              "      <td>Episode III - Revenge of the Sith</td>\n",
              "      <td>Naboo</td>\n",
              "      <td>episode iii revenge sith</td>\n",
              "      <td>episode iii revenge sith</td>\n",
              "    </tr>\n",
              "    <tr>\n",
              "      <th>3</th>\n",
              "      <td>Anakin Skywalker</td>\n",
              "      <td>Count Dooku</td>\n",
              "      <td>Episode IV - A New Hope</td>\n",
              "      <td>Tatooine</td>\n",
              "      <td>episode iv new hope</td>\n",
              "      <td>episode iv new hope</td>\n",
              "    </tr>\n",
              "    <tr>\n",
              "      <th>4</th>\n",
              "      <td>Anakin Skywalker</td>\n",
              "      <td>Count Dooku</td>\n",
              "      <td>Episode V - The Empire Strikes Back</td>\n",
              "      <td>Naboo</td>\n",
              "      <td>episode v empire strikes back</td>\n",
              "      <td>episode v empire strike back</td>\n",
              "    </tr>\n",
              "    <tr>\n",
              "      <th>...</th>\n",
              "      <td>...</td>\n",
              "      <td>...</td>\n",
              "      <td>...</td>\n",
              "      <td>...</td>\n",
              "      <td>...</td>\n",
              "      <td>...</td>\n",
              "    </tr>\n",
              "    <tr>\n",
              "      <th>319</th>\n",
              "      <td>Yoda</td>\n",
              "      <td>Wilhuff Tarkin</td>\n",
              "      <td>Episode II - Attack of the Clones</td>\n",
              "      <td>Tatooine</td>\n",
              "      <td>episode ii attack clones</td>\n",
              "      <td>episode ii attack clone</td>\n",
              "    </tr>\n",
              "    <tr>\n",
              "      <th>320</th>\n",
              "      <td>Yoda</td>\n",
              "      <td>Wilhuff Tarkin</td>\n",
              "      <td>Episode III - Revenge of the Sith</td>\n",
              "      <td>Naboo</td>\n",
              "      <td>episode iii revenge sith</td>\n",
              "      <td>episode iii revenge sith</td>\n",
              "    </tr>\n",
              "    <tr>\n",
              "      <th>321</th>\n",
              "      <td>Yoda</td>\n",
              "      <td>Wilhuff Tarkin</td>\n",
              "      <td>Episode IV - A New Hope</td>\n",
              "      <td>Tatooine</td>\n",
              "      <td>episode iv new hope</td>\n",
              "      <td>episode iv new hope</td>\n",
              "    </tr>\n",
              "    <tr>\n",
              "      <th>322</th>\n",
              "      <td>Yoda</td>\n",
              "      <td>Wilhuff Tarkin</td>\n",
              "      <td>Episode V - The Empire Strikes Back</td>\n",
              "      <td>Tatooine</td>\n",
              "      <td>episode v empire strikes back</td>\n",
              "      <td>episode v empire strike back</td>\n",
              "    </tr>\n",
              "    <tr>\n",
              "      <th>323</th>\n",
              "      <td>Yoda</td>\n",
              "      <td>Wilhuff Tarkin</td>\n",
              "      <td>Episode VI - Return of the Jedi</td>\n",
              "      <td>Naboo</td>\n",
              "      <td>episode vi return jedi</td>\n",
              "      <td>episode vi return jedi</td>\n",
              "    </tr>\n",
              "  </tbody>\n",
              "</table>\n",
              "<p>324 rows × 6 columns</p>\n",
              "</div>"
            ],
            "text/plain": [
              "            fav_heroe     fav_villain                             fav_film  \\\n",
              "0    Anakin Skywalker     Count Dooku       Episode I - The Phantom Menace   \n",
              "1    Anakin Skywalker     Count Dooku    Episode II - Attack of the Clones   \n",
              "2    Anakin Skywalker     Count Dooku    Episode III - Revenge of the Sith   \n",
              "3    Anakin Skywalker     Count Dooku              Episode IV - A New Hope   \n",
              "4    Anakin Skywalker     Count Dooku  Episode V - The Empire Strikes Back   \n",
              "..                ...             ...                                  ...   \n",
              "319              Yoda  Wilhuff Tarkin    Episode II - Attack of the Clones   \n",
              "320              Yoda  Wilhuff Tarkin    Episode III - Revenge of the Sith   \n",
              "321              Yoda  Wilhuff Tarkin              Episode IV - A New Hope   \n",
              "322              Yoda  Wilhuff Tarkin  Episode V - The Empire Strikes Back   \n",
              "323              Yoda  Wilhuff Tarkin      Episode VI - Return of the Jedi   \n",
              "\n",
              "    fav_planet                    clear_films              normalized_films  \n",
              "0        Naboo         episode phantom menace        episode phantom menace  \n",
              "1     Tatooine       episode ii attack clones       episode ii attack clone  \n",
              "2        Naboo       episode iii revenge sith      episode iii revenge sith  \n",
              "3     Tatooine            episode iv new hope           episode iv new hope  \n",
              "4        Naboo  episode v empire strikes back  episode v empire strike back  \n",
              "..         ...                            ...                           ...  \n",
              "319   Tatooine       episode ii attack clones       episode ii attack clone  \n",
              "320      Naboo       episode iii revenge sith      episode iii revenge sith  \n",
              "321   Tatooine            episode iv new hope           episode iv new hope  \n",
              "322   Tatooine  episode v empire strikes back  episode v empire strike back  \n",
              "323      Naboo         episode vi return jedi        episode vi return jedi  \n",
              "\n",
              "[324 rows x 6 columns]"
            ]
          },
          "execution_count": 55,
          "metadata": {},
          "output_type": "execute_result"
        }
      ],
      "source": [
        "plans[\"clear_films\"] = plans['fav_film'].apply(clean_text)\n",
        "plans[\"normalized_films\"] = plans['fav_film'].apply(lambda x: clean_text(x, True))\n",
        "plans"
      ]
    },
    {
      "cell_type": "code",
      "execution_count": 56,
      "metadata": {
        "id": "0On2hkn6Jv7j"
      },
      "outputs": [],
      "source": [
        "plans[\"class\"] = plans[\"fav_planet\"].replace({\n",
        "    \"Naboo\": 0,\n",
        "    \"Tatooine\": 1,\n",
        "    \"Endor\": 2,\n",
        "    \"Dagobah\": 3,\n",
        "    \"Alderaan\": 4\n",
        "})"
      ]
    },
    {
      "cell_type": "markdown",
      "metadata": {
        "id": "KodFILj-Ibpx"
      },
      "source": [
        "# Классификация"
      ]
    },
    {
      "cell_type": "markdown",
      "metadata": {
        "id": "SDOLa33QSroN"
      },
      "source": [
        "Функция для создания датасета к нейронной сети с помощью векторизаторов"
      ]
    },
    {
      "cell_type": "code",
      "execution_count": 66,
      "metadata": {
        "id": "9WFP-Z18SpCU"
      },
      "outputs": [],
      "source": [
        "def create_datasets_with_vectorizer(x, y, vectorizer, random_state=0):\n",
        "  y = np.array(y)\n",
        "  x_train, x_test, y_train, y_test = train_test_split(\n",
        "      x,\n",
        "      y,\n",
        "      test_size=0.2,\n",
        "      stratify=y,\n",
        "      random_state=random_state\n",
        "  )\n",
        "  x_train = vectorizer.fit_transform(x_train).toarray()\n",
        "  x_test = vectorizer.transform(x_test).toarray()\n",
        "  x_train_tensor = torch.tensor(x_train, dtype=torch.float32)\n",
        "  y_train_tensor = torch.tensor(y_train)\n",
        "  x_test_tensor = torch.tensor(x_test, dtype=torch.float32)\n",
        "  y_test_tensor = torch.tensor(y_test)\n",
        "  train_dataset = TensorDataset(x_train_tensor, y_train_tensor)\n",
        "  test_dataset = TensorDataset(x_test_tensor, y_test_tensor)\n",
        "  return (\n",
        "      DataLoader(train_dataset, batch_size=10, shuffle=True),\n",
        "      DataLoader(test_dataset, batch_size=10),\n",
        "      len(vectorizer.vocabulary_) #Размерность словаря, для определения размера входного слоя нейронной сети\n",
        "  )"
      ]
    },
    {
      "cell_type": "markdown",
      "metadata": {
        "id": "a3yz5HHeS8OS"
      },
      "source": [
        "Тестирование модели"
      ]
    },
    {
      "cell_type": "code",
      "execution_count": 67,
      "metadata": {
        "id": "MkHZ5rhv1sm8"
      },
      "outputs": [],
      "source": [
        "def test_model(train, test, model, epochs=10):\n",
        "  device = torch.device(\"cuda\" if torch.cuda.is_available() else \"cpu\")\n",
        "  model.to(device)\n",
        "  optimizer = optim.Adam(model.parameters(), lr=0.001)\n",
        "  criterion = nn.CrossEntropyLoss()\n",
        "  for epoch in range(epochs):\n",
        "    running_loss = 0.0\n",
        "    model.train()\n",
        "    for inputs, labels in train:\n",
        "      inputs = inputs.to(device)\n",
        "      labels = labels.to(device)\n",
        "      optimizer.zero_grad()\n",
        "      outputs = model(inputs)\n",
        "      loss = criterion(outputs, labels)\n",
        "      running_loss += loss.item()\n",
        "      loss.backward()\n",
        "      optimizer.step()\n",
        "    print(f\"Эпоха: {epoch+1}, ошибка на обучении: {running_loss/len(train)}\")\n",
        "    running_loss = 0.0\n",
        "    model.eval()\n",
        "    with torch.no_grad():\n",
        "      for inputs, labels in test:\n",
        "        inputs = inputs.to(device)\n",
        "        labels = labels.to(device)\n",
        "        outputs = model(inputs)\n",
        "        loss = criterion(outputs, labels)\n",
        "        running_loss += loss.item()\n",
        "    print(f\"На валидации: {running_loss/len(test)}\")"
      ]
    },
    {
      "cell_type": "markdown",
      "metadata": {
        "id": "O8Fn9GNHTD0_"
      },
      "source": [
        "Классификатор"
      ]
    },
    {
      "cell_type": "code",
      "execution_count": 68,
      "metadata": {
        "id": "kri2wzfETFeO"
      },
      "outputs": [],
      "source": [
        "class TextClassifier(nn.Module):\n",
        "  def __init__(self, num_features):\n",
        "    super(TextClassifier, self).__init__()\n",
        "    self.fc1 = nn.Linear(num_features, 50)\n",
        "    self.fc2 = nn.Linear(50, 20)\n",
        "    self.fc3 = nn.Linear(20, 5)\n",
        "    self.relu = nn.ReLU()\n",
        "\n",
        "  def forward(self, x):\n",
        "    x = self.relu(self.fc1(x))\n",
        "    x = self.relu(self.fc2(x))\n",
        "    return self.fc3(x)"
      ]
    },
    {
      "cell_type": "markdown",
      "metadata": {
        "id": "ZeVinFfsTGM7"
      },
      "source": [
        "Метод \"Мешок слов\" (реализуется в CountVectorizer)"
      ]
    },
    {
      "cell_type": "code",
      "execution_count": 69,
      "metadata": {
        "colab": {
          "base_uri": "https://localhost:8080/"
        },
        "id": "fpYoOOL6FGeF",
        "outputId": "83f55491-75f7-4b93-cb61-b3039b6bc41e"
      },
      "outputs": [
        {
          "name": "stdout",
          "output_type": "stream",
          "text": [
            "Эпоха: 1, ошибка на обучении: 1.5859317687841563\n",
            "На валидации: 1.5669975280761719\n",
            "Эпоха: 2, ошибка на обучении: 1.4957308494127715\n",
            "На валидации: 1.4996410778590612\n",
            "Эпоха: 3, ошибка на обучении: 1.427136045235854\n",
            "На валидации: 1.4725708620888847\n",
            "Эпоха: 4, ошибка на обучении: 1.406440964111915\n",
            "На валидации: 1.4634608711515154\n",
            "Эпоха: 5, ошибка на обучении: 1.3927172376559331\n",
            "На валидации: 1.4601410797664098\n",
            "Эпоха: 6, ошибка на обучении: 1.3887132222835834\n",
            "На валидации: 1.4637611082621984\n",
            "Эпоха: 7, ошибка на обучении: 1.3850734784052923\n",
            "На валидации: 1.46115699836186\n",
            "Эпоха: 8, ошибка на обучении: 1.382911544579726\n",
            "На валидации: 1.464701771736145\n",
            "Эпоха: 9, ошибка на обучении: 1.3802403074044447\n",
            "На валидации: 1.465995499065944\n",
            "Эпоха: 10, ошибка на обучении: 1.3784752167188203\n",
            "На валидации: 1.4687264817101615\n"
          ]
        }
      ],
      "source": [
        "train, test, voc_size = create_datasets_with_vectorizer(plans['clear_films'], plans[\"class\"], CountVectorizer()) # Тестирование на очищенных данных\n",
        "test_model(train, test, TextClassifier(voc_size))"
      ]
    },
    {
      "cell_type": "code",
      "execution_count": 70,
      "metadata": {
        "colab": {
          "base_uri": "https://localhost:8080/"
        },
        "id": "eAdmB1eFKK4a",
        "outputId": "67ef2979-92c0-485e-962d-b1143457de80"
      },
      "outputs": [
        {
          "name": "stdout",
          "output_type": "stream",
          "text": [
            "Эпоха: 1, ошибка на обучении: 1.5484832387704115\n",
            "На валидации: 1.5287689992359705\n",
            "Эпоха: 2, ошибка на обучении: 1.4971987926042998\n",
            "На валидации: 1.492613366671971\n",
            "Эпоха: 3, ошибка на обучении: 1.4547097912201514\n",
            "На валидации: 1.4665222678865706\n",
            "Эпоха: 4, ошибка на обучении: 1.4230666435681856\n",
            "На валидации: 1.4531637941087996\n",
            "Эпоха: 5, ошибка на обучении: 1.4081540199426503\n",
            "На валидации: 1.4470750434058053\n",
            "Эпоха: 6, ошибка на обучении: 1.3965424024141753\n",
            "На валидации: 1.4506395714623588\n",
            "Эпоха: 7, ошибка на обучении: 1.3899580194399908\n",
            "На валидации: 1.4514832156045097\n",
            "Эпоха: 8, ошибка на обучении: 1.3871073172642634\n",
            "На валидации: 1.4551525967461723\n",
            "Эпоха: 9, ошибка на обучении: 1.3854009600786061\n",
            "На валидации: 1.4563091823032923\n",
            "Эпоха: 10, ошибка на обучении: 1.380328357219696\n",
            "На валидации: 1.4588343756539481\n"
          ]
        }
      ],
      "source": [
        "train, test, voc_size = create_datasets_with_vectorizer(plans['normalized_films'], plans[\"class\"], CountVectorizer()) #Тестирование на очищенных и нормализованных данных\n",
        "test_model(train, test, TextClassifier(voc_size))"
      ]
    },
    {
      "cell_type": "markdown",
      "metadata": {
        "id": "VK7Cv-DQTY9v"
      },
      "source": [
        "Метод Tf-Idf (реализуется в TfidfVectorizer)"
      ]
    },
    {
      "cell_type": "code",
      "execution_count": 71,
      "metadata": {
        "colab": {
          "base_uri": "https://localhost:8080/"
        },
        "id": "kz7t-Y_yJXOs",
        "outputId": "7dea203d-dec6-4d73-ede2-240a411b018a"
      },
      "outputs": [
        {
          "name": "stdout",
          "output_type": "stream",
          "text": [
            "Эпоха: 1, ошибка на обучении: 1.6424564673350408\n",
            "На валидации: 1.6161783593041557\n",
            "Эпоха: 2, ошибка на обучении: 1.5995883574852576\n",
            "На валидации: 1.5762406928198678\n",
            "Эпоха: 3, ошибка на обучении: 1.546370987708752\n",
            "На валидации: 1.5230567966188704\n",
            "Эпоха: 4, ошибка на обучении: 1.4774121642112732\n",
            "На валидации: 1.4608744553157262\n",
            "Эпоха: 5, ошибка на обучении: 1.4163914506251996\n",
            "На валидации: 1.4384690523147583\n",
            "Эпоха: 6, ошибка на обучении: 1.3975766805502086\n",
            "На валидации: 1.4380897624152047\n",
            "Эпоха: 7, ошибка на обучении: 1.3933159342178931\n",
            "На валидации: 1.4386225427900041\n",
            "Эпоха: 8, ошибка на обучении: 1.390900689821977\n",
            "На валидации: 1.436199460710798\n",
            "Эпоха: 9, ошибка на обучении: 1.3897932080122142\n",
            "На валидации: 1.4374086516244071\n",
            "Эпоха: 10, ошибка на обучении: 1.3892268171677222\n",
            "На валидации: 1.4379921640668596\n"
          ]
        }
      ],
      "source": [
        "train, test, voc_size = create_datasets_with_vectorizer(plans['clear_films'], plans[\"class\"], TfidfVectorizer()) # Тестирование на очищенных данных\n",
        "test_model(train, test, TextClassifier(voc_size))"
      ]
    },
    {
      "cell_type": "code",
      "execution_count": 72,
      "metadata": {
        "colab": {
          "base_uri": "https://localhost:8080/"
        },
        "id": "nBeUQhIdUjQA",
        "outputId": "5abf1338-d70f-4a9f-b33e-cc5c1913203f"
      },
      "outputs": [
        {
          "name": "stdout",
          "output_type": "stream",
          "text": [
            "Эпоха: 1, ошибка на обучении: 1.607845324736375\n",
            "На валидации: 1.5928984880447388\n",
            "Эпоха: 2, ошибка на обучении: 1.56541403898826\n",
            "На валидации: 1.5488711425236292\n",
            "Эпоха: 3, ошибка на обучении: 1.5098209977149963\n",
            "На валидации: 1.4976715019771032\n",
            "Эпоха: 4, ошибка на обучении: 1.4481455592008738\n",
            "На валидации: 1.4502586126327515\n",
            "Эпоха: 5, ошибка на обучении: 1.405145255418924\n",
            "На валидации: 1.4372154985155379\n",
            "Эпоха: 6, ошибка на обучении: 1.3947400129758394\n",
            "На валидации: 1.4356436729431152\n",
            "Эпоха: 7, ошибка на обучении: 1.390011021724114\n",
            "На валидации: 1.4368542432785034\n",
            "Эпоха: 8, ошибка на обучении: 1.3855045988009527\n",
            "На валидации: 1.437834586415972\n",
            "Эпоха: 9, ошибка на обучении: 1.3826219760454619\n",
            "На валидации: 1.4394733224596297\n",
            "Эпоха: 10, ошибка на обучении: 1.3800642169438875\n",
            "На валидации: 1.439854451588222\n"
          ]
        }
      ],
      "source": [
        "train, test, voc_size = create_datasets_with_vectorizer(plans['normalized_films'], plans[\"class\"], TfidfVectorizer()) #Тестирование на очищенных и нормализованных данных\n",
        "test_model(train, test, TextClassifier(voc_size))"
      ]
    },
    {
      "cell_type": "markdown",
      "metadata": {
        "id": "5ERQ4F5AGGFO"
      },
      "source": [
        "Word2Vec"
      ]
    },
    {
      "cell_type": "markdown",
      "metadata": {
        "id": "n9wFpiVZncSf"
      },
      "source": [
        "Загрузка предварительно обученной модели"
      ]
    },
    {
      "cell_type": "code",
      "execution_count": 73,
      "metadata": {
        "colab": {
          "base_uri": "https://localhost:8080/"
        },
        "id": "Wj08uwW4f-kK",
        "outputId": "07f9299f-a394-4307-e221-f5babd7d75dc"
      },
      "outputs": [
        {
          "name": "stdout",
          "output_type": "stream",
          "text": [
            "[==================================================] 100.0% 1662.8/1662.8MB downloaded\n"
          ]
        }
      ],
      "source": [
        "w2v = downloader.load('word2vec-google-news-300')"
      ]
    },
    {
      "cell_type": "markdown",
      "metadata": {
        "id": "hrLPsT2rngJH"
      },
      "source": [
        "Функция для конвертации предложения в вектор векторов слов"
      ]
    },
    {
      "cell_type": "code",
      "execution_count": 74,
      "metadata": {
        "id": "aA2xroYujLmD"
      },
      "outputs": [],
      "source": [
        "def text_to_vectors(text, model, max_len):\n",
        "    words = text.split()\n",
        "    words = words[:max_len] + ['<pad>'] * (max_len - len(words))\n",
        "    vectors = []\n",
        "    for word in words:\n",
        "        if word in model:\n",
        "            vectors.append(model[word])\n",
        "        else:\n",
        "            vectors.append(np.zeros(model.vector_size))\n",
        "    return vectors"
      ]
    },
    {
      "cell_type": "markdown",
      "metadata": {
        "id": "TI_LMZbIALi1"
      },
      "source": [
        "Длины текстов"
      ]
    },
    {
      "cell_type": "code",
      "execution_count": 75,
      "metadata": {
        "colab": {
          "base_uri": "https://localhost:8080/"
        },
        "id": "fS20b1aeAKpr",
        "outputId": "c63781dd-1595-44ac-b347-bc67fac08b90"
      },
      "outputs": [
        {
          "data": {
            "text/plain": [
              "4.0"
            ]
          },
          "execution_count": 75,
          "metadata": {},
          "output_type": "execute_result"
        }
      ],
      "source": [
        "plans['clear_films'].apply(lambda x: len(x.split())).median() # Медиана длины текста"
      ]
    },
    {
      "cell_type": "markdown",
      "metadata": {
        "id": "RAkncRz4-rGt"
      },
      "source": [
        "Создание датасетов"
      ]
    },
    {
      "cell_type": "code",
      "execution_count": 76,
      "metadata": {
        "id": "GsUd0W5L47j9"
      },
      "outputs": [],
      "source": [
        "def create_datasets_with_word2vec(x, y, model, random_state=0):\n",
        "  y = np.array(y)\n",
        "  x_train, x_test, y_train, y_test = train_test_split(\n",
        "      x,\n",
        "      y,\n",
        "      test_size=0.2,\n",
        "      stratify=y,\n",
        "      random_state=random_state\n",
        "  )\n",
        "  x_train_vec = x_train.apply(lambda x: text_to_vectors(x, model, 404))\n",
        "  x_test_vec = x_test.apply(lambda x: text_to_vectors(x, model, 404))\n",
        "  x_train_tensor = torch.tensor(x_train_vec.tolist(), dtype=torch.float32)\n",
        "  y_train_tensor = torch.tensor(y_train)\n",
        "  x_test_tensor = torch.tensor(x_test_vec.tolist(), dtype=torch.float32)\n",
        "  y_test_tensor = torch.tensor(y_test)\n",
        "  train_dataset = TensorDataset(x_train_tensor, y_train_tensor)\n",
        "  test_dataset = TensorDataset(x_test_tensor, y_test_tensor)\n",
        "  return (\n",
        "      DataLoader(train_dataset, batch_size=10, shuffle=True),\n",
        "      DataLoader(test_dataset, batch_size=10)\n",
        "  )"
      ]
    },
    {
      "cell_type": "markdown",
      "metadata": {
        "id": "CsFLrQqb-v9Z"
      },
      "source": [
        "LSTM нейронная сеть"
      ]
    },
    {
      "cell_type": "code",
      "execution_count": 77,
      "metadata": {
        "id": "tvtLAaB86S6v"
      },
      "outputs": [],
      "source": [
        "class LSTMClassifier(nn.Module):\n",
        "    def __init__(self, embedding_dim, hidden_dim, output_dim):\n",
        "        super(LSTMClassifier, self).__init__()\n",
        "        self.lstm = nn.LSTM(embedding_dim, hidden_dim, batch_first=True)\n",
        "        self.fc = nn.Linear(hidden_dim, output_dim)\n",
        "\n",
        "    def forward(self, x):\n",
        "        _, (hidden, _) = self.lstm(x)\n",
        "        last_hidden = hidden[-1]\n",
        "        out = self.fc(last_hidden)\n",
        "        return out"
      ]
    },
    {
      "cell_type": "markdown",
      "metadata": {
        "id": "1kTtGU9u-1o2"
      },
      "source": [
        "Проверка модели на очищенных данных"
      ]
    },
    {
      "cell_type": "code",
      "execution_count": 79,
      "metadata": {
        "colab": {
          "base_uri": "https://localhost:8080/"
        },
        "id": "qs5tvInQ6UB2",
        "outputId": "8a711a12-f6b4-4e61-f2bd-2771431da152"
      },
      "outputs": [
        {
          "name": "stdout",
          "output_type": "stream",
          "text": [
            "Эпоха: 1, ошибка на обучении: 1.5931709958956792\n",
            "На валидации: 1.5424227373940604\n",
            "Эпоха: 2, ошибка на обучении: 1.4638380362437322\n",
            "На валидации: 1.4356921400342668\n",
            "Эпоха: 3, ошибка на обучении: 1.4187857600358815\n",
            "На валидации: 1.420730539730617\n",
            "Эпоха: 4, ошибка на обучении: 1.4104001751312842\n",
            "На валидации: 1.4198500258581979\n",
            "Эпоха: 5, ошибка на обучении: 1.4110383024582496\n",
            "На валидации: 1.4133495092391968\n",
            "Эпоха: 6, ошибка на обучении: 1.4121966041051424\n",
            "На валидации: 1.4141594341823034\n",
            "Эпоха: 7, ошибка на обучении: 1.409495119865124\n",
            "На валидации: 1.4171392577035087\n",
            "Эпоха: 8, ошибка на обучении: 1.4134884339112501\n",
            "На валидации: 1.4153741257531303\n",
            "Эпоха: 9, ошибка на обучении: 1.4058311352363\n",
            "На валидации: 1.4132242713655745\n",
            "Эпоха: 10, ошибка на обучении: 1.4090345593599172\n",
            "На валидации: 1.4146530628204346\n"
          ]
        }
      ],
      "source": [
        "train, test = create_datasets_with_word2vec(plans['clear_films'], plans['class'], w2v)\n",
        "test_model(train, test, LSTMClassifier(300, 50, 5))"
      ]
    },
    {
      "cell_type": "code",
      "execution_count": 80,
      "metadata": {
        "colab": {
          "base_uri": "https://localhost:8080/"
        },
        "id": "TNShTIj0GNta",
        "outputId": "f3c6b9f7-3a3a-4828-b11a-956b0aa23bfc"
      },
      "outputs": [
        {
          "name": "stdout",
          "output_type": "stream",
          "text": [
            "Эпоха: 1, ошибка на обучении: 1.5909861830564647\n",
            "На валидации: 1.5421592167445592\n",
            "Эпоха: 2, ошибка на обучении: 1.4656967199765718\n",
            "На валидации: 1.4384157317025321\n",
            "Эпоха: 3, ошибка на обучении: 1.4116374024978051\n",
            "На валидации: 1.4213038342339652\n",
            "Эпоха: 4, ошибка на обучении: 1.4128579497337341\n",
            "На валидации: 1.4150992121015276\n",
            "Эпоха: 5, ошибка на обучении: 1.412844786277184\n",
            "На валидации: 1.4114333050591605\n",
            "Эпоха: 6, ошибка на обучении: 1.407058807519766\n",
            "На валидации: 1.4129458495548792\n",
            "Эпоха: 7, ошибка на обучении: 1.4111192730756907\n",
            "На валидации: 1.4131899561200822\n",
            "Эпоха: 8, ошибка на обучении: 1.4108228454223046\n",
            "На валидации: 1.4145140647888184\n",
            "Эпоха: 9, ошибка на обучении: 1.4045625787514906\n",
            "На валидации: 1.4132608004978724\n",
            "Эпоха: 10, ошибка на обучении: 1.4045449770413911\n",
            "На валидации: 1.4152832542146956\n"
          ]
        }
      ],
      "source": [
        "train, test = create_datasets_with_word2vec(plans['normalized_films'], plans['class'], w2v)\n",
        "test_model(train, test, LSTMClassifier(300, 50, 5))"
      ]
    }
  ],
  "metadata": {
    "accelerator": "GPU",
    "colab": {
      "gpuType": "T4",
      "provenance": []
    },
    "kernelspec": {
      "display_name": "Python 3",
      "name": "python3"
    },
    "language_info": {
      "name": "python"
    }
  },
  "nbformat": 4,
  "nbformat_minor": 0
}
