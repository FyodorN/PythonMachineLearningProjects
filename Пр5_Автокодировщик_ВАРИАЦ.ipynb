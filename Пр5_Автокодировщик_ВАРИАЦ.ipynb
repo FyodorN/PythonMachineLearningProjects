{
  "nbformat": 4,
  "nbformat_minor": 0,
  "metadata": {
    "colab": {
      "provenance": []
    },
    "kernelspec": {
      "name": "python3",
      "display_name": "Python 3"
    },
    "language_info": {
      "name": "python"
    },
    "accelerator": "GPU",
    "gpuClass": "standard"
  },
  "cells": [
    {
      "cell_type": "code",
      "execution_count": null,
      "metadata": {
        "id": "xYJ1rkNm2x75"
      },
      "outputs": [],
      "source": [
        "import torch\n",
        "\n",
        "import torch.optim as optim\n",
        "from itertools import chain\n",
        "\n",
        "from torch.utils.data import DataLoader, TensorDataset, Dataset\n",
        "\n",
        "from torchsummary import summary\n",
        "from matplotlib import pyplot as plt\n",
        "\n",
        "import pandas as pd\n",
        "import numpy as np\n",
        "import random\n",
        "\n",
        "random.seed(0)\n",
        "np.random.seed(0)\n",
        "torch.cuda.manual_seed(0)\n",
        "torch.backends.cudnn.deterministic = True\n",
        "\n",
        "import torchvision.datasets"
      ]
    },
    {
      "cell_type": "code",
      "source": [
        "MNIST_train=torchvision.datasets.MNIST('./', download = True, train = True)\n",
        "MNIST_test=torchvision.datasets.MNIST('./', download = True, train = False)"
      ],
      "metadata": {
        "id": "pWrliU9oDvlj",
        "colab": {
          "base_uri": "https://localhost:8080/"
        },
        "outputId": "59fda5f7-7565-4944-c4bf-89adfd8e5b7a"
      },
      "execution_count": null,
      "outputs": [
        {
          "output_type": "stream",
          "name": "stdout",
          "text": [
            "Downloading http://yann.lecun.com/exdb/mnist/train-images-idx3-ubyte.gz\n",
            "Failed to download (trying next):\n",
            "HTTP Error 403: Forbidden\n",
            "\n",
            "Downloading https://ossci-datasets.s3.amazonaws.com/mnist/train-images-idx3-ubyte.gz\n",
            "Downloading https://ossci-datasets.s3.amazonaws.com/mnist/train-images-idx3-ubyte.gz to ./MNIST/raw/train-images-idx3-ubyte.gz\n"
          ]
        },
        {
          "output_type": "stream",
          "name": "stderr",
          "text": [
            "100%|██████████| 9912422/9912422 [00:00<00:00, 11680096.20it/s]\n"
          ]
        },
        {
          "output_type": "stream",
          "name": "stdout",
          "text": [
            "Extracting ./MNIST/raw/train-images-idx3-ubyte.gz to ./MNIST/raw\n",
            "\n",
            "Downloading http://yann.lecun.com/exdb/mnist/train-labels-idx1-ubyte.gz\n",
            "Failed to download (trying next):\n",
            "HTTP Error 403: Forbidden\n",
            "\n",
            "Downloading https://ossci-datasets.s3.amazonaws.com/mnist/train-labels-idx1-ubyte.gz\n",
            "Downloading https://ossci-datasets.s3.amazonaws.com/mnist/train-labels-idx1-ubyte.gz to ./MNIST/raw/train-labels-idx1-ubyte.gz\n"
          ]
        },
        {
          "output_type": "stream",
          "name": "stderr",
          "text": [
            "100%|██████████| 28881/28881 [00:00<00:00, 348546.79it/s]\n"
          ]
        },
        {
          "output_type": "stream",
          "name": "stdout",
          "text": [
            "Extracting ./MNIST/raw/train-labels-idx1-ubyte.gz to ./MNIST/raw\n",
            "\n",
            "Downloading http://yann.lecun.com/exdb/mnist/t10k-images-idx3-ubyte.gz\n",
            "Failed to download (trying next):\n",
            "HTTP Error 403: Forbidden\n",
            "\n",
            "Downloading https://ossci-datasets.s3.amazonaws.com/mnist/t10k-images-idx3-ubyte.gz\n",
            "Downloading https://ossci-datasets.s3.amazonaws.com/mnist/t10k-images-idx3-ubyte.gz to ./MNIST/raw/t10k-images-idx3-ubyte.gz\n"
          ]
        },
        {
          "output_type": "stream",
          "name": "stderr",
          "text": [
            "100%|██████████| 1648877/1648877 [00:00<00:00, 3201122.82it/s]\n"
          ]
        },
        {
          "output_type": "stream",
          "name": "stdout",
          "text": [
            "Extracting ./MNIST/raw/t10k-images-idx3-ubyte.gz to ./MNIST/raw\n",
            "\n",
            "Downloading http://yann.lecun.com/exdb/mnist/t10k-labels-idx1-ubyte.gz\n",
            "Failed to download (trying next):\n",
            "HTTP Error 403: Forbidden\n",
            "\n",
            "Downloading https://ossci-datasets.s3.amazonaws.com/mnist/t10k-labels-idx1-ubyte.gz\n",
            "Downloading https://ossci-datasets.s3.amazonaws.com/mnist/t10k-labels-idx1-ubyte.gz to ./MNIST/raw/t10k-labels-idx1-ubyte.gz\n"
          ]
        },
        {
          "output_type": "stream",
          "name": "stderr",
          "text": [
            "100%|██████████| 4542/4542 [00:00<00:00, 9270330.30it/s]\n"
          ]
        },
        {
          "output_type": "stream",
          "name": "stdout",
          "text": [
            "Extracting ./MNIST/raw/t10k-labels-idx1-ubyte.gz to ./MNIST/raw\n",
            "\n"
          ]
        }
      ]
    },
    {
      "cell_type": "markdown",
      "source": [
        "# Автокодировщик для удаления шума"
      ],
      "metadata": {
        "id": "dG9CjiMnXhos"
      }
    },
    {
      "cell_type": "code",
      "source": [
        "X_train = MNIST_train.train_data/255\n",
        "X_test = MNIST_test.train_data/255\n",
        "\n",
        "noise = 0.5 #чем выше значение, тем более зашумленные данные\n",
        "\n",
        "X_train_noise = X_train + noise * np.random.normal(loc = 0, scale=1 ,size = X_train.shape)\n",
        "X_test_noise = X_test + noise * np.random.normal(loc = 0, scale=1 ,size = X_test.shape)\n",
        "\n",
        "X_train=X_train.to(torch.float32) #данные без шума\n",
        "X_test=X_test.to(torch.float32)\n",
        "\n",
        "X_train_noise=X_train_noise.to(torch.float32) #данные с шумом для проверки работы автокодировщика\n",
        "X_test_noise=X_test_noise.to(torch.float32)"
      ],
      "metadata": {
        "id": "wH1mWFMmZL2T",
        "colab": {
          "base_uri": "https://localhost:8080/"
        },
        "outputId": "4df2f18b-028b-49e1-aa42-ca3d8b1ad50d"
      },
      "execution_count": null,
      "outputs": [
        {
          "output_type": "stream",
          "name": "stderr",
          "text": [
            "/usr/local/lib/python3.10/dist-packages/torchvision/datasets/mnist.py:76: UserWarning: train_data has been renamed data\n",
            "  warnings.warn(\"train_data has been renamed data\")\n"
          ]
        }
      ]
    },
    {
      "cell_type": "markdown",
      "source": [
        "Данные с шумом мы используем для входа в сеть, а данные без шума - для оценки качества результата"
      ],
      "metadata": {
        "id": "SWJffPsXt4x7"
      }
    },
    {
      "cell_type": "code",
      "source": [
        "plt.imshow(X_train_noise[90], cmap='gray')"
      ],
      "metadata": {
        "id": "OSRG0It8ZSpN",
        "outputId": "fc5a0824-1d52-4967-c2c1-b3b3c1c89112",
        "colab": {
          "base_uri": "https://localhost:8080/",
          "height": 447
        }
      },
      "execution_count": null,
      "outputs": [
        {
          "output_type": "execute_result",
          "data": {
            "text/plain": [
              "<matplotlib.image.AxesImage at 0x7a20d208d6f0>"
            ]
          },
          "metadata": {},
          "execution_count": 4
        },
        {
          "output_type": "display_data",
          "data": {
            "text/plain": [
              "<Figure size 640x480 with 1 Axes>"
            ],
            "image/png": "[encoded data removed]"
          },
          "metadata": {}
        }
      ]
    },
    {
      "cell_type": "code",
      "source": [
        "device = torch.device('cuda:0' if torch.cuda.is_available() else 'cpu')"
      ],
      "metadata": {
        "id": "22UpYUmRyz4z"
      },
      "execution_count": null,
      "outputs": []
    },
    {
      "cell_type": "code",
      "source": [
        "class Encoder(torch.nn.Module):\n",
        "    def __init__(self, inputs, latent_size):\n",
        "        super().__init__()\n",
        "        self.fc1 = torch.nn.Linear(inputs, 256)\n",
        "        self.act1 = torch.nn.ReLU()\n",
        "        self.fc2 = torch.nn.Linear(256, latent_size)\n",
        "\n",
        "    def forward(self, x):\n",
        "        x = self.act1(self.fc1(x))\n",
        "        x = self.fc2(x)\n",
        "        return x\n"
      ],
      "metadata": {
        "id": "adWejcjHXs_l"
      },
      "execution_count": null,
      "outputs": []
    },
    {
      "cell_type": "code",
      "source": [
        "class Decoder(torch.nn.Module):\n",
        "    def __init__(self, latent_size, outputs):\n",
        "        super().__init__()\n",
        "        self.fc1 = torch.nn.Linear(latent_size, 256)\n",
        "        self.act1 = torch.nn.ReLU()\n",
        "        self.fc2 = torch.nn.Linear(256, outputs)\n",
        "        self.act2 = torch.nn.Sigmoid()\n",
        "\n",
        "    def forward(self, x):\n",
        "        batch_size = x.size(0)\n",
        "        x = self.act1(self.fc1(x))\n",
        "        x = self.act2(self.fc2(x))\n",
        "        return x"
      ],
      "metadata": {
        "id": "9nBWU7Z7Xs9Z"
      },
      "execution_count": null,
      "outputs": []
    },
    {
      "cell_type": "code",
      "source": [
        "def train_ae(data_loader, encoder, decoder, epochs, lr):\n",
        "    encoder.train()\n",
        "    decoder.train()\n",
        "    print('Обучение автокодировщика..')\n",
        "\n",
        "    loss_func = torch.nn.MSELoss()\n",
        "    optimizer = optim.Adam(chain(encoder.parameters(), decoder.parameters()), lr=lr)\n",
        "    loss_history = list()\n",
        "    for epoch in range(epochs):\n",
        "        for (batch, val) in data_loader:\n",
        "            #batch -- это данные с шумом\n",
        "            #val -- данные без шума\n",
        "            optimizer.zero_grad()\n",
        "            loss = loss_func(decoder(encoder(batch)), val)\n",
        "            loss.backward()\n",
        "            optimizer.step()\n",
        "            loss_history.append(loss.log().item())\n",
        "        print(f'Эпоха {epoch + 1} / {epochs}. Потери на последнем пакете: {loss.item()}')\n",
        "\n",
        "    print('Готово!')\n",
        "\n",
        "    encoder.eval()\n",
        "    decoder.eval()\n",
        "\n",
        "    plt.plot(loss_history)\n",
        "    plt.show()"
      ],
      "metadata": {
        "id": "VZ3WPUgjoBp5"
      },
      "execution_count": null,
      "outputs": []
    },
    {
      "cell_type": "code",
      "source": [
        "LATENT_SIZE = 32\n",
        "EPOCHS=10\n",
        "LR = 0.001\n",
        "encoder = Encoder(28 * 28, LATENT_SIZE).to(device)\n",
        "decoder = Decoder(LATENT_SIZE,  28 * 28).to(device)"
      ],
      "metadata": {
        "id": "Q78VkSR_yz4M"
      },
      "execution_count": null,
      "outputs": []
    },
    {
      "cell_type": "code",
      "source": [
        "#сделать даталоадер, в котором будут данные с шумом для обучения и таргеты - данные без шума\n",
        "class NoiseDataset(Dataset):\n",
        "    def __init__(self, X_noisy, X_clean):\n",
        "        self.X_noisy = X_noisy\n",
        "        self.X_clean = X_clean\n",
        "\n",
        "    def __len__(self):\n",
        "        return len(self.X_noisy)\n",
        "\n",
        "    def __getitem__(self, idx):\n",
        "        return self.X_noisy[idx], self.X_clean[idx]\n",
        "\n",
        "\n",
        "# Создание датасетов\n",
        "X_train = X_train.reshape([-1, 28*28])\n",
        "X_train_noise = X_train_noise.reshape([-1, 28*28])\n",
        "train_dataset = NoiseDataset(X_train_noise.to(device), X_train.to(device))"
      ],
      "metadata": {
        "id": "_yeUZJTFsf0T"
      },
      "execution_count": null,
      "outputs": []
    },
    {
      "cell_type": "code",
      "source": [
        "train_noise_data_loader = DataLoader(train_dataset, batch_size = 256, shuffle=True)"
      ],
      "metadata": {
        "id": "N6qrYYRXs5DK"
      },
      "execution_count": null,
      "outputs": []
    },
    {
      "cell_type": "code",
      "source": [
        "print(encoder)\n",
        "print(decoder)"
      ],
      "metadata": {
        "id": "KG5SKdtXLa3J",
        "outputId": "cc9949d5-b7aa-4c1b-a0f3-729c7b7c17d9",
        "colab": {
          "base_uri": "https://localhost:8080/"
        }
      },
      "execution_count": null,
      "outputs": [
        {
          "output_type": "stream",
          "name": "stdout",
          "text": [
            "Encoder(\n",
            "  (fc1): Linear(in_features=784, out_features=256, bias=True)\n",
            "  (act1): ReLU()\n",
            "  (fc2): Linear(in_features=256, out_features=32, bias=True)\n",
            ")\n",
            "Decoder(\n",
            "  (fc1): Linear(in_features=32, out_features=256, bias=True)\n",
            "  (act1): ReLU()\n",
            "  (fc2): Linear(in_features=256, out_features=784, bias=True)\n",
            "  (act2): Sigmoid()\n",
            ")\n"
          ]
        }
      ]
    },
    {
      "cell_type": "code",
      "source": [
        "print(f\"Input size: {train_dataset[0][0].size()}\")\n",
        "print(f\"Target size: {train_dataset[0][1].size()}\")"
      ],
      "metadata": {
        "colab": {
          "base_uri": "https://localhost:8080/"
        },
        "id": "xOyo3Yw-iKaE",
        "outputId": "176fba0f-7f81-487a-f0c6-0d3e01ee8391"
      },
      "execution_count": null,
      "outputs": [
        {
          "output_type": "stream",
          "name": "stdout",
          "text": [
            "Input size: torch.Size([784])\n",
            "Target size: torch.Size([784])\n"
          ]
        }
      ]
    },
    {
      "cell_type": "code",
      "source": [
        "EPOCHS= 10\n",
        "LR= 0.001\n",
        "train_ae(train_noise_data_loader, encoder, decoder, EPOCHS, LR)"
      ],
      "metadata": {
        "id": "aYelzK-fn1E1",
        "outputId": "98bea47f-4b0d-461d-b75b-1023e6abb39d",
        "colab": {
          "base_uri": "https://localhost:8080/",
          "height": 638
        }
      },
      "execution_count": null,
      "outputs": [
        {
          "output_type": "stream",
          "name": "stdout",
          "text": [
            "Обучение автокодировщика..\n",
            "Эпоха 1 / 10. Потери на последнем пакете: 0.03314712643623352\n",
            "Эпоха 2 / 10. Потери на последнем пакете: 0.024140087887644768\n",
            "Эпоха 3 / 10. Потери на последнем пакете: 0.023085756227374077\n",
            "Эпоха 4 / 10. Потери на последнем пакете: 0.019328314810991287\n",
            "Эпоха 5 / 10. Потери на последнем пакете: 0.018741900101304054\n",
            "Эпоха 6 / 10. Потери на последнем пакете: 0.017481524497270584\n",
            "Эпоха 7 / 10. Потери на последнем пакете: 0.015989596024155617\n",
            "Эпоха 8 / 10. Потери на последнем пакете: 0.018462469801306725\n",
            "Эпоха 9 / 10. Потери на последнем пакете: 0.016657056286931038\n",
            "Эпоха 10 / 10. Потери на последнем пакете: 0.01653236523270607\n",
            "Готово!\n"
          ]
        },
        {
          "output_type": "display_data",
          "data": {
            "text/plain": [
              "<Figure size 640x480 with 1 Axes>"
            ],
            "image/png": "[encoded data removed]"
          },
          "metadata": {}
        }
      ]
    },
    {
      "cell_type": "code",
      "source": [
        "# Показать результат удаления шума из данных\n",
        "encoder.eval()\n",
        "decoder.eval()\n",
        "\n",
        "# Выберем случайный пример из тестового набора данных\n",
        "idx = np.random.randint(0, len(X_test))\n",
        "noisy_image = X_test_noise[idx].reshape(1, -1).to(device)\n",
        "clean_image = X_test[idx].reshape(1, -1).to(device)\n",
        "\n",
        "# Закодировать и декодировать изображение\n",
        "latent_representation = encoder(noisy_image)\n",
        "reconstructed_image = decoder(latent_representation)\n",
        "\n",
        "# Визуализировать результаты\n",
        "plt.figure(figsize=(8, 3))\n",
        "\n",
        "plt.subplot(1, 3, 1)\n",
        "plt.imshow(noisy_image.cpu().detach().squeeze().reshape(28, 28), cmap='gray')\n",
        "plt.title('Изображение с шумом')\n",
        "\n",
        "plt.subplot(1, 3, 2)\n",
        "plt.imshow(clean_image.cpu().detach().squeeze().reshape(28, 28), cmap='gray')\n",
        "plt.title('Оригинальное изображение')\n",
        "\n",
        "plt.subplot(1, 3, 3)\n",
        "plt.imshow(reconstructed_image.cpu().detach().squeeze().reshape(28, 28), cmap='gray')\n",
        "plt.title('Восстановленное изображение')\n",
        "\n",
        "plt.show()"
      ],
      "metadata": {
        "id": "L9jVf7rT0aUH",
        "colab": {
          "base_uri": "https://localhost:8080/",
          "height": 265
        },
        "outputId": "d77e513b-8270-423d-d5a1-05c05a28b3ad"
      },
      "execution_count": null,
      "outputs": [
        {
          "output_type": "display_data",
          "data": {
            "text/plain": [
              "<Figure size 800x300 with 3 Axes>"
            ],
            "image/png": "[encoded data removed]"
          },
          "metadata": {}
        }
      ]
    },
    {
      "cell_type": "markdown",
      "source": [
        "Вариационный автокодировщик"
      ],
      "metadata": {
        "id": "pHMA7bauEoIb"
      }
    },
    {
      "cell_type": "code",
      "source": [
        "import torch\n",
        "\n",
        "from zipfile import ZipFile\n",
        "import zipfile\n",
        "\n",
        "import torch.optim as optim\n",
        "from itertools import chain\n",
        "\n",
        "from torch.utils.data import DataLoader, TensorDataset, Dataset\n",
        "\n",
        "from torchsummary import summary\n",
        "from matplotlib import pyplot as plt\n",
        "\n",
        "import pandas as pd\n",
        "import numpy as np\n",
        "import random\n",
        "\n",
        "random.seed(0)\n",
        "np.random.seed(0)\n",
        "torch.cuda.manual_seed(0)\n",
        "torch.backends.cudnn.deterministic = True\n",
        "\n",
        "import torchvision.datasets\n",
        "import torchvision.transforms as tr"
      ],
      "metadata": {
        "id": "-f1Aci-Qiz_e"
      },
      "execution_count": null,
      "outputs": []
    },
    {
      "cell_type": "code",
      "source": [
        "import torch\n",
        "import torch.nn as nn\n",
        "\n",
        "class Encoder(nn.Module):\n",
        "    def __init__(self, latent_size):\n",
        "        super().__init__()\n",
        "\n",
        "        self.conv1 = nn.Conv2d(1, 10, kernel_size=5)  # Input channels changed to 1\n",
        "        self.conv2 = nn.Conv2d(10, 20, kernel_size=5)\n",
        "\n",
        "        self.conv2_drop = nn.Dropout2d()\n",
        "        self.fc1 = nn.Linear(320, latent_size)  # polnosviaznyi sloi\n",
        "\n",
        "        self.fc_mu = nn.Linear(latent_size, latent_size)  # formirovanie vektora mat ozhidanii\n",
        "        self.fc_log_var = nn.Linear(latent_size, latent_size)  # formirovanie vektora logarifma dispersii\n",
        "\n",
        "        self.latent_size = latent_size\n",
        "\n",
        "    def forward(self, x):\n",
        "        x = nn.functional.relu(nn.functional.max_pool2d(self.conv1(x), 2))  # svertochnyi sloi\n",
        "        x = nn.functional.relu(nn.functional.max_pool2d(self.conv2_drop(self.conv2(x)), 2))\n",
        "        x = x.view(-1, 320)  # flatten\n",
        "        x = nn.functional.relu(self.fc1(x))  # polnosviaznyi sloi\n",
        "\n",
        "        x = x.reshape(-1, self.latent_size)  # delaem reshape, chtoby iz svertochnogo sloia v polnosvyazku peredat' vektora\n",
        "\n",
        "        mu = self.fc_mu(x)\n",
        "        log_var = self.fc_log_var(x)\n",
        "        return mu, log_var  # rezul'tat enkodera -- eto vektor srednikh i vektor dispersii\n",
        "\n",
        "    def sample_latent(self, x):  # poluchaem vektor skrytogo sostoianiia Z\n",
        "        mu, log_var = self.forward(x)  # poluchaem vektora srednikh i dispersii\n",
        "\n",
        "        # torch.randn_like(input) Vozvrashchaet tenzor sluchainykh chisel iz standartnogo normal'nogo raspredeleniia togo zhe razmera, chto i input\n",
        "        N = torch.randn_like(mu).to(device)\n",
        "\n",
        "        # dispersiia u nas vozvrashchaetsia v logarifme, a umnozhit' nam nado na standartnoe otklonenie\n",
        "        # togda nuzhno /2, stepen' ukhodit i vziat' eksponentu, poluchim prosto standartnoe otklonenie\n",
        "        return torch.exp(log_var / 2) * N + mu, mu, log_var"
      ],
      "metadata": {
        "id": "Qu61JLHPvsaF"
      },
      "execution_count": null,
      "outputs": []
    },
    {
      "cell_type": "code",
      "source": [
        "class Decoder(nn.Module):\n",
        "    def __init__(self, latent_size):\n",
        "        super().__init__()\n",
        "\n",
        "        self.fc = nn.Linear(latent_size, 320)  # polnosviaznyi sloi\n",
        "        self.conv1 = nn.ConvTranspose2d(20, 10, kernel_size=5)  # dekonvolutsionnyi sloi\n",
        "        self.conv2 = nn.ConvTranspose2d(10, 1, kernel_size=5)  # dekonvolutsionnyi sloi\n",
        "        self.latent_size = latent_size\n",
        "\n",
        "    def forward(self, x):\n",
        "        x = x.reshape(-1, self.latent_size)  # delaem reshape, chtoby iz svertochnogo sloia v polnosvyazku peredat' vektora\n",
        "        x = nn.functional.relu(self.fc(x))\n",
        "        x = x.view(-1, 20, 4, 4)  # reshape dlia dekonvolutsionnykh sloev\n",
        "        x = nn.functional.relu(self.conv1(x))\n",
        "        x = self.conv2(x)\n",
        "        x = torch.sigmoid(x)  # primeniaem aktivatsiiu sigmoid, chtoby poluchit' znacheniia ot 0 do 1\n",
        "        return x"
      ],
      "metadata": {
        "id": "6caQFzkewR1J"
      },
      "execution_count": null,
      "outputs": []
    },
    {
      "cell_type": "code",
      "source": [
        "#import os\n",
        "#import subprocess\n",
        "#from google.colab import file\n",
        "from google.colab import drive\n",
        "\n",
        "#data = files.upload()\n",
        "\n",
        "#os.chdir('')\n",
        "#subprocess.run(['unzip', 'faces.zip'], check=True)\n",
        "drive.mount('drive', force_remount = True)"
      ],
      "metadata": {
        "colab": {
          "base_uri": "https://localhost:8080/"
        },
        "id": "---y_lnhW-Xt",
        "outputId": "732cc718-843f-4bff-910e-f53529323143"
      },
      "execution_count": null,
      "outputs": [
        {
          "output_type": "stream",
          "name": "stdout",
          "text": [
            "Mounted at drive\n"
          ]
        }
      ]
    },
    {
      "cell_type": "code",
      "source": [
        "!ls /tmp/images"
      ],
      "metadata": {
        "colab": {
          "base_uri": "https://localhost:8080/"
        },
        "id": "-PEWxmuStWGR",
        "outputId": "efa9acd4-be59-4b23-ecd9-7225dba59d6f"
      },
      "execution_count": null,
      "outputs": [
        {
          "output_type": "stream",
          "name": "stdout",
          "text": [
            "ls: cannot access '/tmp/images': No such file or directory\n"
          ]
        }
      ]
    },
    {
      "cell_type": "code",
      "source": [
        "# Класс нашего датасета картинок\n",
        "class ImageDataset(Dataset):\n",
        "    def __init__(self, root_dir):\n",
        "        self.root_dir = root_dir\n",
        "        self.transform = tr.Compose([\n",
        "            tr.ToTensor(),\n",
        "            tr.Normalize((0.5,), (0.5,))\n",
        "        ])\n",
        "\n",
        "    def __len__(self):\n",
        "        return len(os.listdir(self.root_dir))\n",
        "\n",
        "    def __getitem__(self, idx):\n",
        "        image_path = os.path.join(self.root_dir, f'image_{idx}.jpg')\n",
        "        image = Image.open(image_path)\n",
        "        image = self.transform(image)\n",
        "        return image"
      ],
      "metadata": {
        "id": "I_xA3AMxIREh"
      },
      "execution_count": null,
      "outputs": []
    },
    {
      "cell_type": "code",
      "source": [
        "from torchvision.transforms import Resize\n",
        "import torch\n",
        "import torch.nn as nn\n",
        "import matplotlib.pyplot as plt\n",
        "from torchvision.transforms import Resize, Compose, ToTensor\n",
        "\n",
        "def train_ae(data_loader, encoder, decoder, epochs, lr, device):\n",
        "    print('Обучение автокодировщика..')\n",
        "\n",
        "    encoder.train()\n",
        "    decoder.train()\n",
        "\n",
        "    recon_loss_func = nn.MSELoss()\n",
        "    kl_loss_func = nn.KLDivLoss(reduction='batchmean')\n",
        "\n",
        "    optimizer = optim.Adam(chain(encoder.parameters(), decoder.parameters()), lr=lr)\n",
        "\n",
        "    loss_history = list()\n",
        "    for epoch in range(epochs):\n",
        "        for i, (images, _) in enumerate(data_loader):\n",
        "            images = images.to(device)\n",
        "\n",
        "            optimizer.zero_grad()\n",
        "\n",
        "            # прямой проход через кодер и получение вектора Z, вектора средних и вектора дисперсий\n",
        "            latent_vector, mu, log_sigma = encoder.sample_latent(images)\n",
        "\n",
        "            # получение ошибки MSE\n",
        "            recon_loss = recon_loss_func(decoder(latent_vector), images)\n",
        "\n",
        "            # получение ошибки KL\n",
        "            kl_loss = kl_loss_func(mu, log_sigma)\n",
        "            loss = kl_loss + 1000 * recon_loss  # можно поварьировать балансировочный коэффициент\n",
        "\n",
        "            loss.backward()\n",
        "            optimizer.step()\n",
        "\n",
        "            if i % 100 == 0:\n",
        "                print('Потери восстановления:', recon_loss.item())\n",
        "                print('Потери расхождения распределений:', kl_loss.item())\n",
        "\n",
        "            loss_history.append(loss.log().item())\n",
        "\n",
        "        print(f'Эпоха {epoch + 1} / {epochs}. Потери на последнем пакете: {loss.item()}')\n",
        "\n",
        "    encoder.eval()\n",
        "    decoder.eval()\n",
        "\n",
        "    print('Готово!')\n",
        "\n",
        "    plt.plot(loss_history)\n",
        "    plt.show()"
      ],
      "metadata": {
        "id": "FGam2_2Ywf7t"
      },
      "execution_count": null,
      "outputs": []
    },
    {
      "cell_type": "code",
      "source": [
        "#dataset = pd.read_csv(\"/content/drive/MyDrive/faces.zip\")\n",
        "\n",
        "\n",
        "with ZipFile('/content/drive/MyDrive/faces.zip', 'r') as zip_ref:\n",
        "    zip_ref.extractall('/tmp/images')"
      ],
      "metadata": {
        "id": "GzMBgFvHywgO"
      },
      "execution_count": null,
      "outputs": []
    },
    {
      "cell_type": "code",
      "source": [
        "from torch.utils.data import DataLoader\n",
        "from torchvision.datasets import ImageFolder\n",
        "from torchvision.transforms import ToTensor\n",
        "from torchvision.transforms import Normalize\n",
        "\n",
        "LATENT_SIZE = 32  # razmernost' skrytogo prostranstva\n",
        "\n",
        "BATCH_SIZE = 64  # razmer paketa dannykh\n",
        "EPOCHS = 5  # kolichestvo epokh obucheniia\n",
        "LR = 0.001  # skorost' obucheniia\n",
        "\n",
        "device = 'cuda' if torch.cuda.is_available() else 'cpu'\n",
        "\n",
        "dataset = ImageFolder('/tmp/images', transform=Compose([\n",
        "    Resize((1600, 1067)),\n",
        "    ToTensor(),\n",
        "    Normalize((0.5,), (0.5,))\n",
        "]))\n",
        "\n",
        "data_loader = DataLoader(dataset, batch_size=BATCH_SIZE, shuffle=True)\n",
        "\n",
        "# Initsiializatsiia kodir i dekodirr\n",
        "encoder = Encoder(LATENT_SIZE).to(device)\n",
        "decoder = Decoder(LATENT_SIZE).to(device)\n",
        "\n",
        "\n",
        "\n",
        "'''\n",
        "LATENT_SIZE = 32  # размерность скрытого пространства\n",
        "\n",
        "BATCH_SIZE = 64  # размер пакета данных\n",
        "EPOCHS = 5  # количество эпох обучения\n",
        "LR = 0.001  # скорость обучения\n",
        "\n",
        "device = 'cuda' if torch.cuda.is_available() else 'cpu'\n",
        "\n",
        "dataset = ImageFolder('/tmp/images', transform=ToTensor())\n",
        "\n",
        "#!ls /tmp/images/Humans\n",
        "\n",
        "# Инициализация кодир и декодир\n",
        "encoder = Encoder(LATENT_SIZE).to(device)\n",
        "decoder = Decoder(LATENT_SIZE).to(device)\n",
        "\n",
        "# Get the first image from the dataset\n",
        "img, _ = dataset[0]\n",
        "\n",
        "# Determine the image size\n",
        "IMG_SIZE = img.shape[1:]\n",
        "print(f'IMG_SIZE: {IMG_SIZE}')\n",
        "\n",
        "resize_transform = Resize((1600, 1067))\n",
        "\n",
        "# Define the transformation pipeline\n",
        "transform = Compose([\n",
        "    resize_transform,\n",
        "    ToTensor()\n",
        "])\n",
        "\n",
        "# Apply the transformation pipeline to the dataset\n",
        "dataset = ImageFolder('/tmp/images', transform=transform)\n",
        "data_loader = DataLoader(dataset, batch_size=BATCH_SIZE, shuffle=True)\n",
        "\n",
        "# Проверка что все картинки одинакового размера\n",
        "#j, _ = dataset[2]\n",
        "#JOPA = j.shape[1:]\n",
        "#print(f'IMG_SIZE: {JOPA}')\n",
        "'''"
      ],
      "metadata": {
        "colab": {
          "base_uri": "https://localhost:8080/",
          "height": 157
        },
        "id": "4ojqLquxwuAO",
        "outputId": "c1e5c79b-4397-42a3-c172-2db07c702800"
      },
      "execution_count": null,
      "outputs": [
        {
          "output_type": "execute_result",
          "data": {
            "text/plain": [
              "\"\\nLATENT_SIZE = 32  # размерность скрытого пространства\\n\\nBATCH_SIZE = 64  # размер пакета данных\\nEPOCHS = 5  # количество эпох обучения\\nLR = 0.001  # скорость обучения\\n\\ndevice = 'cuda' if torch.cuda.is_available() else 'cpu'\\n\\ndataset = ImageFolder('/tmp/images', transform=ToTensor())\\n\\n#!ls /tmp/images/Humans\\n\\n# Инициализация кодир и декодир\\nencoder = Encoder(LATENT_SIZE).to(device)\\ndecoder = Decoder(LATENT_SIZE).to(device)\\n\\n# Get the first image from the dataset\\nimg, _ = dataset[0]\\n\\n# Determine the image size\\nIMG_SIZE = img.shape[1:]\\nprint(f'IMG_SIZE: {IMG_SIZE}')\\n\\nresize_transform = Resize((1600, 1067))\\n\\n# Define the transformation pipeline\\ntransform = Compose([\\n    resize_transform,\\n    ToTensor()\\n])\\n\\n# Apply the transformation pipeline to the dataset\\ndataset = ImageFolder('/tmp/images', transform=transform)\\ndata_loader = DataLoader(dataset, batch_size=BATCH_SIZE, shuffle=True)\\n\\n# Проверка что все картинки одинакового размера\\n#j, _ = dataset[2]\\n#JOPA = j.shape[1:]\\n#print(f'IMG_SIZE: {JOPA}')\\n\""
            ],
            "application/vnd.google.colaboratory.intrinsic+json": {
              "type": "string"
            }
          },
          "metadata": {},
          "execution_count": 25
        }
      ]
    },
    {
      "cell_type": "markdown",
      "source": [
        "VAE DONE"
      ],
      "metadata": {
        "id": "iAGC1SwbDkeo"
      }
    },
    {
      "cell_type": "code",
      "source": [
        "import torch\n",
        "import torch.nn as nn\n",
        "import torch.optim as optim\n",
        "from torchvision import datasets, transforms\n",
        "import matplotlib.pyplot as plt\n",
        "\n",
        "# Hyperparameters\n",
        "batch_size = 128\n",
        "latent_dim = 2\n",
        "hidden_dim = 256\n",
        "learning_rate = 0.001\n",
        "num_epochs = 10\n",
        "num_images = 10  # Number of images to generate\n",
        "\n",
        "# Load MNIST dataset\n",
        "transform = transforms.Compose([transforms.ToTensor()])\n",
        "train_dataset = datasets.MNIST('~/.pytorch/MNIST_data/', download=True, train=True, transform=transform)\n",
        "test_dataset = datasets.MNIST('~/.pytorch/MNIST_data/', download=True, train=False, transform=transform)\n",
        "\n",
        "train_loader = torch.utils.data.DataLoader(train_dataset, batch_size=batch_size, shuffle=True)\n",
        "test_loader = torch.utils.data.DataLoader(test_dataset, batch_size=batch_size, shuffle=False)\n",
        "\n",
        "# Define VAE model\n",
        "class VAE(nn.Module):\n",
        "    def __init__(self):\n",
        "        super(VAE, self).__init__()\n",
        "        self.encoder = nn.Sequential(\n",
        "            nn.Linear(784, hidden_dim),\n",
        "            nn.ReLU(),\n",
        "            nn.Linear(hidden_dim, hidden_dim),\n",
        "            nn.ReLU(),\n",
        "            nn.Linear(hidden_dim, latent_dim*2)\n",
        "        )\n",
        "        self.decoder = nn.Sequential(\n",
        "            nn.Linear(latent_dim, hidden_dim),\n",
        "            nn.ReLU(),\n",
        "            nn.Linear(hidden_dim, hidden_dim),\n",
        "            nn.ReLU(),\n",
        "            nn.Linear(hidden_dim, 784)\n",
        "        )\n",
        "\n",
        "    def reparameterize(self, mu, log_var):\n",
        "        std = torch.exp(0.5*log_var)\n",
        "        eps = torch.randn_like(std)\n",
        "        z = mu + eps*std\n",
        "        return z\n",
        "\n",
        "    def forward(self, x):\n",
        "        x = x.view(-1, 784)\n",
        "        mu, log_var = self.encoder(x).chunk(2, dim=1)\n",
        "        z = self.reparameterize(mu, log_var)\n",
        "        x_reconstructed = self.decoder(z)\n",
        "        return x_reconstructed, mu, log_var\n",
        "\n",
        "# Initialize VAE model and optimizer\n",
        "vae = VAE()\n",
        "optimizer = optim.Adam(vae.parameters(), lr=learning_rate)\n",
        "\n",
        "# Define loss function\n",
        "def loss_function(reconstructed_x, x, mu, log_var):\n",
        "    x = x.view(-1, 784)  # Reshape x to (batch_size, 784)\n",
        "    reconstruction_loss = torch.sum((reconstructed_x - x)**2)\n",
        "    kl_loss = 0.5 * torch.sum(torch.exp(log_var) + mu**2 - 1 - log_var)\n",
        "    return reconstruction_loss + kl_loss\n",
        "\n",
        "# Set device (GPU or CPU)\n",
        "device = torch.device(\"cuda:0\" if torch.cuda.is_available() else \"cpu\")\n",
        "vae.to(device)  # Move the model to the device\n",
        "\n",
        "# Train VAE\n",
        "for epoch in range(num_epochs):\n",
        "    for x, _ in train_loader:\n",
        "        x = x.to(device)\n",
        "        optimizer.zero_grad()\n",
        "        reconstructed_x, mu, log_var = vae(x)\n",
        "        loss = loss_function(reconstructed_x, x, mu, log_var)\n",
        "        loss.backward()\n",
        "        optimizer.step()\n",
        "    print(f'Epoch {epoch+1}, Loss: {loss.item()}')\n",
        "\n",
        "# Generate new images\n",
        "vae.eval()\n",
        "with torch.no_grad():\n",
        "    z = torch.randn(num_images, latent_dim).to(device)\n",
        "    generated_images = vae.decoder(z)\n",
        "    generated_images = generated_images.view(num_images, 28, 28)\n",
        "\n",
        "# Display generated images\n",
        "fig, axes = plt.subplots(nrows=num_images, ncols=1, figsize=(1, num_images))\n",
        "for i, ax in enumerate(axes):\n",
        "    ax.imshow(generated_images[i].cpu().numpy(), cmap='gray')\n",
        "    ax.axis('off')\n",
        "plt.show()\n",
        "\n",
        "# Recover noise from generated images\n",
        "vae.eval()\n",
        "with torch.no_grad():\n",
        "    z = torch.randn(num_images, latent_dim).to(device)\n",
        "    generated_images = vae.decoder(z)\n",
        "    generated_images = generated_images.view(num_images, 28, 28)\n",
        "\n",
        "    # Recover noise from generated images\n",
        "    noise = vae.encoder(generated_images.view(-1, 784))\n",
        "    mu, log_var = noise.chunk(2, dim=1)\n",
        "\n",
        "    # Print the mean and standard deviation of the noise\n",
        "    print(\"Mean of noise:\", mu.mean(dim=0))\n",
        "    print(\"Standard deviation of noise:\", torch.exp(0.5*log_var).mean(dim=0))"
      ],
      "metadata": {
        "colab": {
          "base_uri": "https://localhost:8080/",
          "height": 1000
        },
        "id": "QJFtYRf1DmBB",
        "outputId": "b2945478-69e0-4e47-a2d1-51ae2b762796"
      },
      "execution_count": null,
      "outputs": [
        {
          "output_type": "stream",
          "name": "stdout",
          "text": [
            "Downloading http://yann.lecun.com/exdb/mnist/train-images-idx3-ubyte.gz\n",
            "Failed to download (trying next):\n",
            "HTTP Error 403: Forbidden\n",
            "\n",
            "Downloading https://ossci-datasets.s3.amazonaws.com/mnist/train-images-idx3-ubyte.gz\n",
            "Downloading https://ossci-datasets.s3.amazonaws.com/mnist/train-images-idx3-ubyte.gz to /root/.pytorch/MNIST_data/MNIST/raw/train-images-idx3-ubyte.gz\n"
          ]
        },
        {
          "output_type": "stream",
          "name": "stderr",
          "text": [
            "100%|██████████| 9912422/9912422 [00:00<00:00, 51478661.32it/s]\n"
          ]
        },
        {
          "output_type": "stream",
          "name": "stdout",
          "text": [
            "Extracting /root/.pytorch/MNIST_data/MNIST/raw/train-images-idx3-ubyte.gz to /root/.pytorch/MNIST_data/MNIST/raw\n",
            "\n",
            "Downloading http://yann.lecun.com/exdb/mnist/train-labels-idx1-ubyte.gz\n",
            "Failed to download (trying next):\n",
            "HTTP Error 403: Forbidden\n",
            "\n",
            "Downloading https://ossci-datasets.s3.amazonaws.com/mnist/train-labels-idx1-ubyte.gz\n",
            "Downloading https://ossci-datasets.s3.amazonaws.com/mnist/train-labels-idx1-ubyte.gz to /root/.pytorch/MNIST_data/MNIST/raw/train-labels-idx1-ubyte.gz\n"
          ]
        },
        {
          "output_type": "stream",
          "name": "stderr",
          "text": [
            "100%|██████████| 28881/28881 [00:00<00:00, 2447531.85it/s]\n"
          ]
        },
        {
          "output_type": "stream",
          "name": "stdout",
          "text": [
            "Extracting /root/.pytorch/MNIST_data/MNIST/raw/train-labels-idx1-ubyte.gz to /root/.pytorch/MNIST_data/MNIST/raw\n",
            "\n",
            "Downloading http://yann.lecun.com/exdb/mnist/t10k-images-idx3-ubyte.gz\n",
            "Failed to download (trying next):\n",
            "HTTP Error 403: Forbidden\n",
            "\n",
            "Downloading https://ossci-datasets.s3.amazonaws.com/mnist/t10k-images-idx3-ubyte.gz\n",
            "Downloading https://ossci-datasets.s3.amazonaws.com/mnist/t10k-images-idx3-ubyte.gz to /root/.pytorch/MNIST_data/MNIST/raw/t10k-images-idx3-ubyte.gz\n"
          ]
        },
        {
          "output_type": "stream",
          "name": "stderr",
          "text": [
            "100%|██████████| 1648877/1648877 [00:00<00:00, 14839503.82it/s]\n"
          ]
        },
        {
          "output_type": "stream",
          "name": "stdout",
          "text": [
            "Extracting /root/.pytorch/MNIST_data/MNIST/raw/t10k-images-idx3-ubyte.gz to /root/.pytorch/MNIST_data/MNIST/raw\n",
            "\n",
            "Downloading http://yann.lecun.com/exdb/mnist/t10k-labels-idx1-ubyte.gz\n",
            "Failed to download (trying next):\n",
            "HTTP Error 403: Forbidden\n",
            "\n",
            "Downloading https://ossci-datasets.s3.amazonaws.com/mnist/t10k-labels-idx1-ubyte.gz\n",
            "Downloading https://ossci-datasets.s3.amazonaws.com/mnist/t10k-labels-idx1-ubyte.gz to /root/.pytorch/MNIST_data/MNIST/raw/t10k-labels-idx1-ubyte.gz\n"
          ]
        },
        {
          "output_type": "stream",
          "name": "stderr",
          "text": [
            "100%|██████████| 4542/4542 [00:00<00:00, 10042450.59it/s]"
          ]
        },
        {
          "output_type": "stream",
          "name": "stdout",
          "text": [
            "Extracting /root/.pytorch/MNIST_data/MNIST/raw/t10k-labels-idx1-ubyte.gz to /root/.pytorch/MNIST_data/MNIST/raw\n",
            "\n"
          ]
        },
        {
          "output_type": "stream",
          "name": "stderr",
          "text": [
            "\n"
          ]
        },
        {
          "output_type": "stream",
          "name": "stdout",
          "text": [
            "Epoch 1, Loss: 4002.439208984375\n",
            "Epoch 2, Loss: 3599.6669921875\n",
            "Epoch 3, Loss: 3662.12890625\n",
            "Epoch 4, Loss: 3630.5634765625\n",
            "Epoch 5, Loss: 3418.560791015625\n",
            "Epoch 6, Loss: 3417.136962890625\n",
            "Epoch 7, Loss: 3532.55126953125\n",
            "Epoch 8, Loss: 3660.6767578125\n",
            "Epoch 9, Loss: 3598.500244140625\n",
            "Epoch 10, Loss: 3619.494384765625\n"
          ]
        },
        {
          "output_type": "display_data",
          "data": {
            "text/plain": [
              "<Figure size 100x1000 with 10 Axes>"
            ],
            "image/png": "[encoded data removed]"
          },
          "metadata": {}
        },
        {
          "output_type": "stream",
          "name": "stdout",
          "text": [
            "Mean of noise: tensor([ 0.2531, -0.2001], device='cuda:0')\n",
            "Standard deviation of noise: tensor([0.0990, 0.1425], device='cuda:0')\n"
          ]
        }
      ]
    }
  ]
}